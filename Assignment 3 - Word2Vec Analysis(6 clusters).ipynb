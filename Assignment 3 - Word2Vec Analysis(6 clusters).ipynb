{
 "cells": [
  {
   "cell_type": "code",
   "execution_count": 1,
   "metadata": {},
   "outputs": [],
   "source": [
    "import pandas as pd\n",
    "import numpy as np\n",
    "import matplotlib.pyplot as plt\n",
    "import seaborn as sns\n",
    "import time\n",
    "from sklearn.externals import joblib\n",
    "from scipy.sparse import hstack\n",
    "%matplotlib inline"
   ]
  },
  {
   "cell_type": "code",
   "execution_count": 2,
   "metadata": {},
   "outputs": [
    {
     "name": "stdout",
     "output_type": "stream",
     "text": [
      "Rows: 1000001\n"
     ]
    },
    {
     "data": {
      "text/html": [
       "<div>\n",
       "<style scoped>\n",
       "    .dataframe tbody tr th:only-of-type {\n",
       "        vertical-align: middle;\n",
       "    }\n",
       "\n",
       "    .dataframe tbody tr th {\n",
       "        vertical-align: top;\n",
       "    }\n",
       "\n",
       "    .dataframe thead th {\n",
       "        text-align: right;\n",
       "    }\n",
       "</style>\n",
       "<table border=\"1\" class=\"dataframe\">\n",
       "  <thead>\n",
       "    <tr style=\"text-align: right;\">\n",
       "      <th></th>\n",
       "      <th>publish_date</th>\n",
       "      <th>headline_text</th>\n",
       "      <th>publish_year</th>\n",
       "    </tr>\n",
       "  </thead>\n",
       "  <tbody>\n",
       "    <tr>\n",
       "      <th>23668</th>\n",
       "      <td>2003-02-19</td>\n",
       "      <td>surge in new car sales in aust abs</td>\n",
       "      <td>2003</td>\n",
       "    </tr>\n",
       "    <tr>\n",
       "      <th>6089</th>\n",
       "      <td>2003-02-19</td>\n",
       "      <td>new zealand imposes visa entry for zimbabwe</td>\n",
       "      <td>2003</td>\n",
       "    </tr>\n",
       "    <tr>\n",
       "      <th>8208</th>\n",
       "      <td>2003-02-19</td>\n",
       "      <td>nsw opp defends claims of running race campaign</td>\n",
       "      <td>2003</td>\n",
       "    </tr>\n",
       "    <tr>\n",
       "      <th>29533</th>\n",
       "      <td>2003-02-19</td>\n",
       "      <td>qantas war plan to cut 2500 jobs outrages unions</td>\n",
       "      <td>2003</td>\n",
       "    </tr>\n",
       "    <tr>\n",
       "      <th>20646</th>\n",
       "      <td>2003-02-19</td>\n",
       "      <td>sterrey to steer sharks</td>\n",
       "      <td>2003</td>\n",
       "    </tr>\n",
       "  </tbody>\n",
       "</table>\n",
       "</div>"
      ],
      "text/plain": [
       "      publish_date                                     headline_text  \\\n",
       "23668   2003-02-19                surge in new car sales in aust abs   \n",
       "6089    2003-02-19       new zealand imposes visa entry for zimbabwe   \n",
       "8208    2003-02-19   nsw opp defends claims of running race campaign   \n",
       "29533   2003-02-19  qantas war plan to cut 2500 jobs outrages unions   \n",
       "20646   2003-02-19                           sterrey to steer sharks   \n",
       "\n",
       "       publish_year  \n",
       "23668          2003  \n",
       "6089           2003  \n",
       "8208           2003  \n",
       "29533          2003  \n",
       "20646          2003  "
      ]
     },
     "execution_count": 2,
     "metadata": {},
     "output_type": "execute_result"
    }
   ],
   "source": [
    "df_news = pd.read_csv('../data/news_headlines.csv')\n",
    "df_news.publish_date = pd.to_datetime(df_news.publish_date, format='%Y%m%d')\n",
    "df_news['publish_year'] = df_news.publish_date.dt.year\n",
    "df_news.sort_values('publish_date', inplace=True)\n",
    "print('Rows: {}'.format(df_news.shape[0]))\n",
    "df_news.head()"
   ]
  },
  {
   "cell_type": "markdown",
   "metadata": {},
   "source": [
    "### Checking for duplicates in dataset"
   ]
  },
  {
   "cell_type": "code",
   "execution_count": 3,
   "metadata": {},
   "outputs": [
    {
     "data": {
      "text/plain": [
       "<matplotlib.axes._subplots.AxesSubplot at 0x7f6a467b48d0>"
      ]
     },
     "execution_count": 3,
     "metadata": {},
     "output_type": "execute_result"
    },
    {
     "data": {
      "image/png": "[encoded data removed]",
      "text/plain": [
       "<Figure size 216x216 with 1 Axes>"
      ]
     },
     "metadata": {},
     "output_type": "display_data"
    }
   ],
   "source": [
    "df_news.duplicated().map({True: 'Duplicated', False: 'Unique'}).value_counts().plot(\n",
    "    kind='pie', autopct='%.2f%%', figsize=(3, 3), label='')"
   ]
  },
  {
   "cell_type": "markdown",
   "metadata": {},
   "source": [
    "Example of duplicated"
   ]
  },
  {
   "cell_type": "code",
   "execution_count": 4,
   "metadata": {},
   "outputs": [
    {
     "data": {
      "text/html": [
       "<div>\n",
       "<style scoped>\n",
       "    .dataframe tbody tr th:only-of-type {\n",
       "        vertical-align: middle;\n",
       "    }\n",
       "\n",
       "    .dataframe tbody tr th {\n",
       "        vertical-align: top;\n",
       "    }\n",
       "\n",
       "    .dataframe thead th {\n",
       "        text-align: right;\n",
       "    }\n",
       "</style>\n",
       "<table border=\"1\" class=\"dataframe\">\n",
       "  <thead>\n",
       "    <tr style=\"text-align: right;\">\n",
       "      <th></th>\n",
       "      <th>publish_date</th>\n",
       "      <th>headline_text</th>\n",
       "      <th>publish_year</th>\n",
       "    </tr>\n",
       "  </thead>\n",
       "  <tbody>\n",
       "    <tr>\n",
       "      <th>968711</th>\n",
       "      <td>2017-07-03</td>\n",
       "      <td>mans body found in river murray mannum</td>\n",
       "      <td>2017</td>\n",
       "    </tr>\n",
       "    <tr>\n",
       "      <th>976437</th>\n",
       "      <td>2017-07-03</td>\n",
       "      <td>mans body found in river murray mannum</td>\n",
       "      <td>2017</td>\n",
       "    </tr>\n",
       "  </tbody>\n",
       "</table>\n",
       "</div>"
      ],
      "text/plain": [
       "       publish_date                           headline_text  publish_year\n",
       "968711   2017-07-03  mans body found in river murray mannum          2017\n",
       "976437   2017-07-03  mans body found in river murray mannum          2017"
      ]
     },
     "execution_count": 4,
     "metadata": {},
     "output_type": "execute_result"
    }
   ],
   "source": [
    "df_news.loc[df_news.headline_text == 'mans body found in river murray mannum']"
   ]
  },
  {
   "cell_type": "code",
   "execution_count": 5,
   "metadata": {},
   "outputs": [],
   "source": [
    "df_news.drop_duplicates(inplace=True)"
   ]
  },
  {
   "cell_type": "code",
   "execution_count": 6,
   "metadata": {},
   "outputs": [
    {
     "data": {
      "image/png": "[encoded data removed]",
      "text/plain": [
       "<Figure size 1080x288 with 1 Axes>"
      ]
     },
     "metadata": {},
     "output_type": "display_data"
    }
   ],
   "source": [
    "fig, ax = plt.subplots(figsize=(15,4))\n",
    "df_news.publish_date.hist(ax=ax, bins=300);"
   ]
  },
  {
   "cell_type": "markdown",
   "metadata": {},
   "source": [
    "# Pre processing text"
   ]
  },
  {
   "cell_type": "code",
   "execution_count": 7,
   "metadata": {},
   "outputs": [],
   "source": [
    "from nltk.tokenize import word_tokenize\n",
    "from nltk.corpus import stopwords\n",
    "from nltk.stem.snowball import SnowballStemmer\n",
    "import string\n",
    "\n",
    "stopwords = stopwords.words('english')\n",
    "stemmer = SnowballStemmer('english')\n",
    "\n",
    "def pre_processing(text):\n",
    "    words = word_tokenize(text.lower(), language='english')\n",
    "    words = [w for w in words if not w in stopwords]  # Remove stop words\n",
    "    words = [w for w in words if not w in string.punctuation]  # Remove pontuacao\n",
    "    words = [stemmer.stem(w) for w in words]  # Extrai radical da palavra\n",
    "    return ' '.join(words)\n",
    "def n_grams(text,n):\n",
    "    words = word_tokenize(text.lower(), language='english')\n",
    "    words = [words[i:i+n] for i in range(len(words)-n+1)]\n",
    "    words = ['-'.join(words[i]) for i in range(len(words))]\n",
    "    return ' '.join(words)\n",
    "def char_ngrams(text,n):\n",
    "    words = ''.join(text.lower().split())\n",
    "    words = [words[i:i+n] for i in range(len(words)-n+1)]\n",
    "    return ' '.join(words)\n",
    "\n"
   ]
  },
  {
   "cell_type": "code",
   "execution_count": 8,
   "metadata": {},
   "outputs": [
    {
     "name": "stdout",
     "output_type": "stream",
     "text": [
      "Elapsed time on text pre-processing: 4 minutes and 59 seconds.\n"
     ]
    },
    {
     "data": {
      "text/html": [
       "<div>\n",
       "<style scoped>\n",
       "    .dataframe tbody tr th:only-of-type {\n",
       "        vertical-align: middle;\n",
       "    }\n",
       "\n",
       "    .dataframe tbody tr th {\n",
       "        vertical-align: top;\n",
       "    }\n",
       "\n",
       "    .dataframe thead th {\n",
       "        text-align: right;\n",
       "    }\n",
       "</style>\n",
       "<table border=\"1\" class=\"dataframe\">\n",
       "  <thead>\n",
       "    <tr style=\"text-align: right;\">\n",
       "      <th></th>\n",
       "      <th>publish_date</th>\n",
       "      <th>headline_text</th>\n",
       "      <th>publish_year</th>\n",
       "      <th>text</th>\n",
       "      <th>2_grams</th>\n",
       "      <th>3_grams</th>\n",
       "      <th>4_chargrams</th>\n",
       "    </tr>\n",
       "  </thead>\n",
       "  <tbody>\n",
       "    <tr>\n",
       "      <th>23668</th>\n",
       "      <td>2003-02-19</td>\n",
       "      <td>surge in new car sales in aust abs</td>\n",
       "      <td>2003</td>\n",
       "      <td>surg new car sale aust ab</td>\n",
       "      <td>surg-new new-car car-sale sale-aust aust-ab</td>\n",
       "      <td>surg-new-car new-car-sale car-sale-aust sale-a...</td>\n",
       "      <td>surg urgn rgne gnew newc ewca wcar cars arsa r...</td>\n",
       "    </tr>\n",
       "    <tr>\n",
       "      <th>6089</th>\n",
       "      <td>2003-02-19</td>\n",
       "      <td>new zealand imposes visa entry for zimbabwe</td>\n",
       "      <td>2003</td>\n",
       "      <td>new zealand impos visa entri zimbabw</td>\n",
       "      <td>new-zealand zealand-impos impos-visa visa-entr...</td>\n",
       "      <td>new-zealand-impos zealand-impos-visa impos-vis...</td>\n",
       "      <td>newz ewze wzea zeal eala alan land andi ndim d...</td>\n",
       "    </tr>\n",
       "    <tr>\n",
       "      <th>8208</th>\n",
       "      <td>2003-02-19</td>\n",
       "      <td>nsw opp defends claims of running race campaign</td>\n",
       "      <td>2003</td>\n",
       "      <td>nsw opp defend claim run race campaign</td>\n",
       "      <td>nsw-opp opp-defend defend-claim claim-run run-...</td>\n",
       "      <td>nsw-opp-defend opp-defend-claim defend-claim-r...</td>\n",
       "      <td>nswo swop wopp oppd ppde pdef defe efen fend e...</td>\n",
       "    </tr>\n",
       "    <tr>\n",
       "      <th>29533</th>\n",
       "      <td>2003-02-19</td>\n",
       "      <td>qantas war plan to cut 2500 jobs outrages unions</td>\n",
       "      <td>2003</td>\n",
       "      <td>qanta war plan cut 2500 job outrag union</td>\n",
       "      <td>qanta-war war-plan plan-cut cut-2500 2500-job ...</td>\n",
       "      <td>qanta-war-plan war-plan-cut plan-cut-2500 cut-...</td>\n",
       "      <td>qant anta ntaw tawa awar warp arpl rpla plan l...</td>\n",
       "    </tr>\n",
       "    <tr>\n",
       "      <th>20646</th>\n",
       "      <td>2003-02-19</td>\n",
       "      <td>sterrey to steer sharks</td>\n",
       "      <td>2003</td>\n",
       "      <td>sterrey steer shark</td>\n",
       "      <td>sterrey-steer steer-shark</td>\n",
       "      <td>sterrey-steer-shark</td>\n",
       "      <td>ster terr erre rrey reys eyst yste stee teer e...</td>\n",
       "    </tr>\n",
       "  </tbody>\n",
       "</table>\n",
       "</div>"
      ],
      "text/plain": [
       "      publish_date                                     headline_text  \\\n",
       "23668   2003-02-19                surge in new car sales in aust abs   \n",
       "6089    2003-02-19       new zealand imposes visa entry for zimbabwe   \n",
       "8208    2003-02-19   nsw opp defends claims of running race campaign   \n",
       "29533   2003-02-19  qantas war plan to cut 2500 jobs outrages unions   \n",
       "20646   2003-02-19                           sterrey to steer sharks   \n",
       "\n",
       "       publish_year                                      text  \\\n",
       "23668          2003                 surg new car sale aust ab   \n",
       "6089           2003      new zealand impos visa entri zimbabw   \n",
       "8208           2003    nsw opp defend claim run race campaign   \n",
       "29533          2003  qanta war plan cut 2500 job outrag union   \n",
       "20646          2003                       sterrey steer shark   \n",
       "\n",
       "                                                 2_grams  \\\n",
       "23668        surg-new new-car car-sale sale-aust aust-ab   \n",
       "6089   new-zealand zealand-impos impos-visa visa-entr...   \n",
       "8208   nsw-opp opp-defend defend-claim claim-run run-...   \n",
       "29533  qanta-war war-plan plan-cut cut-2500 2500-job ...   \n",
       "20646                          sterrey-steer steer-shark   \n",
       "\n",
       "                                                 3_grams  \\\n",
       "23668  surg-new-car new-car-sale car-sale-aust sale-a...   \n",
       "6089   new-zealand-impos zealand-impos-visa impos-vis...   \n",
       "8208   nsw-opp-defend opp-defend-claim defend-claim-r...   \n",
       "29533  qanta-war-plan war-plan-cut plan-cut-2500 cut-...   \n",
       "20646                                sterrey-steer-shark   \n",
       "\n",
       "                                             4_chargrams  \n",
       "23668  surg urgn rgne gnew newc ewca wcar cars arsa r...  \n",
       "6089   newz ewze wzea zeal eala alan land andi ndim d...  \n",
       "8208   nswo swop wopp oppd ppde pdef defe efen fend e...  \n",
       "29533  qant anta ntaw tawa awar warp arpl rpla plan l...  \n",
       "20646  ster terr erre rrey reys eyst yste stee teer e...  "
      ]
     },
     "execution_count": 8,
     "metadata": {},
     "output_type": "execute_result"
    }
   ],
   "source": [
    "tic = time.time()\n",
    "\n",
    "df_news['text'] = df_news.headline_text.apply(pre_processing)\n",
    "df_news['2_grams'] = df_news.text.apply(lambda x: n_grams(x,2))\n",
    "df_news['3_grams'] = df_news.text.apply(lambda x: n_grams(x,3))\n",
    "df_news['4_chargrams'] = df_news.text.apply(lambda x: char_ngrams(x,4))\n",
    "\n",
    "toc = time.time()\n",
    "print('Elapsed time on text pre-processing: %d minutes and %d seconds.' % ((toc-tic)/60,(toc-tic)%60))\n",
    "df_news.head()"
   ]
  },
  {
   "cell_type": "code",
   "execution_count": 9,
   "metadata": {},
   "outputs": [
    {
     "data": {
      "text/plain": [
       "<matplotlib.axes._subplots.AxesSubplot at 0x7f6a465ad2e8>"
      ]
     },
     "execution_count": 9,
     "metadata": {},
     "output_type": "execute_result"
    },
    {
     "data": {
      "image/png": "[encoded data removed]",
      "text/plain": [
       "<Figure size 576x144 with 1 Axes>"
      ]
     },
     "metadata": {},
     "output_type": "display_data"
    }
   ],
   "source": [
    "df_news.publish_year.value_counts().plot(kind='bar', figsize=(8, 2))"
   ]
  },
  {
   "cell_type": "code",
   "execution_count": 10,
   "metadata": {},
   "outputs": [],
   "source": [
    "df_news.to_pickle('df_news.pkl')"
   ]
  },
  {
   "cell_type": "markdown",
   "metadata": {},
   "source": [
    "# Feature extraction"
   ]
  },
  {
   "cell_type": "markdown",
   "metadata": {},
   "source": [
    "### Using entire dataset:"
   ]
  },
  {
   "cell_type": "code",
   "execution_count": 2,
   "metadata": {},
   "outputs": [],
   "source": [
    "from sklearn.externals import joblib\n",
    "\n",
    "df_news = joblib.load('df_news.pkl')"
   ]
  },
  {
   "cell_type": "code",
   "execution_count": 3,
   "metadata": {},
   "outputs": [],
   "source": [
    "df_news = df_news.reset_index().drop('index', axis=1)"
   ]
  },
  {
   "cell_type": "code",
   "execution_count": 13,
   "metadata": {},
   "outputs": [],
   "source": [
    "sentences = df_news.text.map(lambda x: x.split())"
   ]
  },
  {
   "cell_type": "code",
   "execution_count": 14,
   "metadata": {},
   "outputs": [],
   "source": [
    "from gensim.models import Word2Vec\n",
    "\n",
    "model = Word2Vec(sentences, min_count=50,size=300,workers=4)"
   ]
  },
  {
   "cell_type": "code",
   "execution_count": 15,
   "metadata": {},
   "outputs": [],
   "source": [
    "def invocab(sentence):\n",
    "    x = []\n",
    "    for i in range(len(sentence)):\n",
    "        if(sentence[i] in model.wv.vocab.keys()):\n",
    "            x.append(sentence[i])\n",
    "    return x"
   ]
  },
  {
   "cell_type": "code",
   "execution_count": 16,
   "metadata": {},
   "outputs": [],
   "source": [
    "texts = sentences.map(lambda x: invocab(x))"
   ]
  },
  {
   "cell_type": "code",
   "execution_count": 17,
   "metadata": {},
   "outputs": [],
   "source": [
    "features = np.zeros((texts.shape[0],300))\n",
    "for i,text in enumerate(texts):\n",
    "    if len(text) != 0:\n",
    "        feats = model.wv[text].sum(axis=0)\n",
    "        features[i] = feats\n",
    "    else:\n",
    "        feats = np.zeros((300,))\n",
    "        features[i] = feats"
   ]
  },
  {
   "cell_type": "code",
   "execution_count": 18,
   "metadata": {},
   "outputs": [],
   "source": [
    "from sklearn.preprocessing import normalize\n",
    "\n",
    "features = normalize(features)"
   ]
  },
  {
   "cell_type": "code",
   "execution_count": 19,
   "metadata": {},
   "outputs": [
    {
     "data": {
      "text/plain": [
       "['features_.pkl']"
      ]
     },
     "execution_count": 19,
     "metadata": {},
     "output_type": "execute_result"
    }
   ],
   "source": [
    "joblib.dump(features,'features.pkl')"
   ]
  },
  {
   "cell_type": "markdown",
   "metadata": {},
   "source": [
    "# Clustering:"
   ]
  },
  {
   "cell_type": "code",
   "execution_count": 4,
   "metadata": {},
   "outputs": [],
   "source": [
    "features = joblib.load('features.pkl')"
   ]
  },
  {
   "cell_type": "code",
   "execution_count": 5,
   "metadata": {},
   "outputs": [],
   "source": [
    "def validity(model, N):\n",
    "    intra = (model.inertia_ / N)\n",
    "    centers = model.cluster_centers_\n",
    "    flag = 1e10\n",
    "    for i in range(centers.shape[0]):\n",
    "        for j in range(i+1, centers.shape[0]):\n",
    "            distance = paired_distances(centers[i].reshape(-1,1),centers[j].reshape(-1,1)).sum()\n",
    "            if distance<flag:\n",
    "                flag=distance\n",
    "    inter = flag\n",
    "    return intra/inter"
   ]
  },
  {
   "cell_type": "markdown",
   "metadata": {},
   "source": [
    "### Estimating number of clusters:"
   ]
  },
  {
   "cell_type": "code",
   "execution_count": 6,
   "metadata": {},
   "outputs": [
    {
     "name": "stdout",
     "output_type": "stream",
     "text": [
      "Number of clusters: 2\n",
      "Number of clusters: 3\n",
      "Number of clusters: 4\n",
      "Number of clusters: 5\n",
      "Number of clusters: 6\n",
      "Number of clusters: 7\n",
      "Number of clusters: 8\n",
      "Number of clusters: 9\n",
      "Number of clusters: 10\n",
      "Number of clusters: 11\n",
      "Number of clusters: 12\n",
      "Number of clusters: 13\n",
      "Number of clusters: 14\n",
      "Number of clusters: 15\n",
      "Number of clusters: 16\n",
      "Number of clusters: 17\n",
      "Number of clusters: 18\n",
      "Number of clusters: 19\n",
      "Number of clusters: 20\n",
      "Number of clusters: 21\n",
      "Number of clusters: 22\n",
      "Number of clusters: 23\n",
      "Number of clusters: 24\n",
      "Number of clusters: 25\n",
      "Number of clusters: 26\n",
      "Number of clusters: 27\n",
      "Number of clusters: 28\n",
      "Number of clusters: 29\n",
      "Number of clusters: 30\n",
      "Elapsed time: 0 hours, 0 minutes and 2 seconds\n"
     ]
    }
   ],
   "source": [
    "import os\n",
    "from sklearn.cluster import KMeans\n",
    "from sklearn.cluster import MiniBatchKMeans\n",
    "from tqdm import tqdm_notebook\n",
    "from scipy.spatial.distance import cdist\n",
    "from sklearn.metrics import silhouette_score\n",
    "from sklearn.metrics.pairwise import paired_distances\n",
    "use_cache = True\n",
    "\n",
    "inertias, scores, sils, val = [], [], [], []\n",
    "n_clusters = range(2,31,1)\n",
    "N = features.shape[0]\n",
    "for n_cluster in n_clusters:\n",
    "    tic = time.time()\n",
    "    cluster_path = os.path.join('KMeans', 'KMeans_w2v_batch50{}.pkl'.format(n_cluster))\n",
    "    if not use_cache or not os.path.exists(cluster_path):\n",
    "        cluster = KMeans(n_cluster, random_state=42, max_iter = 300, n_jobs=-1)\n",
    "        cluster.fit(features)\n",
    "        joblib.dump(cluster, cluster_path)\n",
    "    else:\n",
    "        cluster = joblib.load(cluster_path)\n",
    "    inertias.append(cluster.inertia_)\n",
    "    scores.append(cluster.score(features))  \n",
    "    sils.append(silhouette_score(features, cluster.labels_, random_state=42, sample_size=5000))\n",
    "    val.append(validity(cluster,N))\n",
    "    print('Number of clusters: %d' % n_cluster)\n",
    "toc = time.time()\n",
    "print('Elapsed time: %d hours, %d minutes and %d seconds' % ((toc-tic)/3600,((toc-tic)/60)%60,(toc-tic)%60))\n"
   ]
  },
  {
   "cell_type": "code",
   "execution_count": 7,
   "metadata": {},
   "outputs": [],
   "source": [
    "import numpy as np\n",
    "\n",
    "def plot(name, data, line_func=None):\n",
    "    fig, ax = plt.subplots(1, sharex=True, sharey=True, figsize=(12, 5))\n",
    "    ax.plot(n_clusters, data)\n",
    "    if line_func:\n",
    "        ax.axvline(n_clusters[line_func(data)], color='gray', alpha=0.3)\n",
    "    ax.set_xlabel('Number of clusters')\n",
    "    ax.set_ylabel(name)\n",
    "    ax.set_title('Elbow method')\n",
    "    plt.xticks(n_clusters)"
   ]
  },
  {
   "cell_type": "code",
   "execution_count": 8,
   "metadata": {
    "scrolled": false
   },
   "outputs": [
    {
     "data": {
      "image/png": "[encoded data removed]",
      "text/plain": [
       "<Figure size 864x360 with 1 Axes>"
      ]
     },
     "metadata": {},
     "output_type": "display_data"
    }
   ],
   "source": [
    "plot('Score', scores, np.argmax)"
   ]
  },
  {
   "cell_type": "code",
   "execution_count": 9,
   "metadata": {},
   "outputs": [
    {
     "data": {
      "image/png": "[encoded data removed]",
      "text/plain": [
       "<Figure size 864x360 with 1 Axes>"
      ]
     },
     "metadata": {},
     "output_type": "display_data"
    }
   ],
   "source": [
    "plot('Inertia', inertias, np.argmin)"
   ]
  },
  {
   "cell_type": "code",
   "execution_count": 10,
   "metadata": {},
   "outputs": [
    {
     "data": {
      "image/png": "[encoded data removed]",
      "text/plain": [
       "<Figure size 864x360 with 1 Axes>"
      ]
     },
     "metadata": {},
     "output_type": "display_data"
    }
   ],
   "source": [
    "plot('Validation', val, np.argmin)"
   ]
  },
  {
   "cell_type": "code",
   "execution_count": 11,
   "metadata": {},
   "outputs": [
    {
     "data": {
      "image/png": "[encoded data removed]",
      "text/plain": [
       "<Figure size 864x360 with 1 Axes>"
      ]
     },
     "metadata": {},
     "output_type": "display_data"
    }
   ],
   "source": [
    "plot('Silhouette', sils, np.argmax)"
   ]
  },
  {
   "cell_type": "code",
   "execution_count": 12,
   "metadata": {},
   "outputs": [
    {
     "name": "stdout",
     "output_type": "stream",
     "text": [
      "Ideal number of clusters, based on silhouete and inertia analysis: 6\n"
     ]
    }
   ],
   "source": [
    "print('Ideal number of clusters, based on silhouete and inertia analysis: 6')"
   ]
  },
  {
   "cell_type": "markdown",
   "metadata": {},
   "source": [
    "# Definition of label names"
   ]
  },
  {
   "cell_type": "code",
   "execution_count": 32,
   "metadata": {},
   "outputs": [],
   "source": [
    "from sklearn.feature_extraction.text import CountVectorizer\n",
    "\n",
    "def most_frequent(texts, n=10):\n",
    "        counts = CountVectorizer(max_features=n, token_pattern=r'\\w+-*\\w+-*\\w+')\n",
    "        counts.fit_transform(texts)\n",
    "        return [key for key in counts.vocabulary_]"
   ]
  },
  {
   "cell_type": "code",
   "execution_count": 33,
   "metadata": {},
   "outputs": [],
   "source": [
    "cluster_path = \"KMeans/KMeans_w2v_batch506.pkl\"\n",
    "cluster = joblib.load(cluster_path)\n",
    "features = joblib.load('features.pkl')"
   ]
  },
  {
   "cell_type": "code",
   "execution_count": 34,
   "metadata": {},
   "outputs": [],
   "source": [
    "df_news['cluster'] = cluster.predict(features)"
   ]
  },
  {
   "cell_type": "markdown",
   "metadata": {},
   "source": [
    "#### Cluster 0:"
   ]
  },
  {
   "cell_type": "code",
   "execution_count": 35,
   "metadata": {},
   "outputs": [
    {
     "name": "stdout",
     "output_type": "stream",
     "text": [
      "Top 10 words:\n",
      "['releas', 'appeal', 'hospit', 'find', 'say', 'studi', 'polic', 'report', 'court', 'show']\n",
      "\n",
      "\n",
      "Top 10 2-grams:\n",
      "['report-find', 'court-told', 'high-court', 'high-school', 'help-find', 'bodi-found', 'kohler-report', 'find-miss', 'royal-commiss', 'studi-find']\n",
      "\n",
      "\n",
      "Top 10 3-grams:\n",
      "['bodi-found-near', 'find-miss-man', 'help-find-miss', 'seek-help-find', 'polic-seek-help', 'hospit-wait-list', 'cctv-footag-show', 'polic-appeal-help', 'find-miss-woman', 'appeal-help-find']\n",
      "\n",
      "\n",
      "10 examples of headines:\n",
      "107           mp raises hospital concerns in parliament\n",
      "164                     nats seek probe bushfires probe\n",
      "211       lawyers to review case before any esso appeal\n",
      "235       police continue probe into human remains find\n",
      "241      coronial inquiry expected after hospital death\n",
      "266              qld govt says new hospital on schedule\n",
      "283       male dna found on body of murdered schoolgirl\n",
      "317    british govt clashes with high court over asylum\n",
      "339        llewellyn not impressed by patterson so show\n",
      "341         patterson irresponsible with no show edmond\n",
      "Name: headline_text, dtype: object\n"
     ]
    }
   ],
   "source": [
    "print('Top 10 words:')\n",
    "print(most_frequent(df_news.text.loc[df_news.cluster==0], 10))\n",
    "print('\\n')\n",
    "print('Top 10 2-grams:')\n",
    "print(most_frequent(df_news['2_grams'].loc[df_news.cluster==0], 10))\n",
    "print('\\n')\n",
    "print('Top 10 3-grams:')\n",
    "print(most_frequent(df_news['3_grams'].loc[df_news.cluster==0], 10))\n",
    "print('\\n')\n",
    "print('10 examples of headines:')\n",
    "print(df_news.headline_text.loc[df_news.cluster==0].head(10))"
   ]
  },
  {
   "cell_type": "markdown",
   "metadata": {},
   "source": [
    "A label for this cluster group is: X"
   ]
  },
  {
   "cell_type": "markdown",
   "metadata": {},
   "source": [
    "#### Cluster 1:"
   ]
  },
  {
   "cell_type": "code",
   "execution_count": 36,
   "metadata": {},
   "outputs": [
    {
     "name": "stdout",
     "output_type": "stream",
     "text": [
      "Top 10 words:\n",
      "['decis', 'consid', 'face', 'council', 'say', 'water', 'mine', 'develop', 'school', 'plan']\n",
      "\n",
      "\n",
      "Top 10 2-grams:\n",
      "['council-consid', 'basin-plan', 'alic-spring', 'coal-mine', 'wast-dump', 'darl-basin', 'studi-consid', 'council-seek', 'green-light', 'murray-darl']\n",
      "\n",
      "\n",
      "Top 10 3-grams:\n",
      "['face-uncertain-futur', 'move-closer-realiti', 'murray-darl-basin', 'mcarthur-river-mine', 'murray-darl-plan', 'darl-basin-plan', 'juri-retir-consid', 'back-win-way', 'council-de-merger', 'coal-seam-gas']\n",
      "\n",
      "\n",
      "10 examples of headines:\n",
      "31          radioactive spill at wmcs olympic dam mine\n",
      "38     williams says tight bowling key to warriors win\n",
      "57      juvenile sex offenders unlikely to reoffend as\n",
      "96               irrigators vote over river management\n",
      "114                swiss challengers looking to future\n",
      "220         no funding discussion until after nsw poll\n",
      "232            school to reopen after paint fume scare\n",
      "249          meetings to consider glenelg river future\n",
      "310               g g to witness church bell hand over\n",
      "316     council considers indigenous caravan park plan\n",
      "Name: headline_text, dtype: object\n"
     ]
    }
   ],
   "source": [
    "print('Top 10 words:')\n",
    "print(most_frequent(df_news.text.loc[df_news.cluster==1], 10))\n",
    "print('\\n')\n",
    "print('Top 10 2-grams:')\n",
    "print(most_frequent(df_news['2_grams'].loc[df_news.cluster==1], 10))\n",
    "print('\\n')\n",
    "print('Top 10 3-grams:')\n",
    "print(most_frequent(df_news['3_grams'].loc[df_news.cluster==1], 10))\n",
    "print('\\n')\n",
    "print('10 examples of headines:')\n",
    "print(df_news.headline_text.loc[df_news.cluster==1].head(10))"
   ]
  },
  {
   "cell_type": "markdown",
   "metadata": {},
   "source": [
    "A label for this cluster group is: <b>X</b>"
   ]
  },
  {
   "cell_type": "markdown",
   "metadata": {},
   "source": [
    "#### Cluster 2:"
   ]
  },
  {
   "cell_type": "code",
   "execution_count": 37,
   "metadata": {},
   "outputs": [
    {
     "name": "stdout",
     "output_type": "stream",
     "text": [
      "Top 10 words:\n",
      "['man', 'council', 'back', 'charg', 'fire', 'urg', 'plan', 'interview', 'polic', 'say']\n",
      "\n",
      "\n",
      "Top 10 2-grams:\n",
      "['climat-chang', 'asylum-seeker', 'man-jail', 'rate-rise', 'man-charg', 'face-court', 'polic-investig', 'world-cup', 'plead-guilti', 'polic-probe']\n",
      "\n",
      "\n",
      "Top 10 3-grams:\n",
      "['one-plus-one', 'man-front-court', 'great-barrier-reef', 'front-court-accus', 'rural-qld-podcast', 'child-sex-abus', 'abc-entertain-news', 'man-plead-guilti', 'man-face-court', 'child-sex-charg']\n",
      "\n",
      "\n",
      "10 examples of headines:\n",
      "2      nsw opp defends claims of running race campaign\n",
      "3     qantas war plan to cut 2500 jobs outrages unions\n",
      "4                              sterrey to steer sharks\n",
      "7               more women urged to become councillors\n",
      "12               stop changing the rules fans tell afl\n",
      "13               shire offers assurances over finances\n",
      "17      rfs rejects claim that act authorities spurned\n",
      "18    talk of asian nuclear arms race unhelpful downer\n",
      "21         kelly disgusted at alleged bp ethanol scare\n",
      "22     saudi arabia tells arabs war on iraq inevitable\n",
      "Name: headline_text, dtype: object\n"
     ]
    }
   ],
   "source": [
    "print('Top 10 words:')\n",
    "print(most_frequent(df_news.text.loc[df_news.cluster==2], 10))\n",
    "print('\\n')\n",
    "print('Top 10 2-grams:')\n",
    "print(most_frequent(df_news['2_grams'].loc[df_news.cluster==2], 10))\n",
    "print('\\n')\n",
    "print('Top 10 3-grams:')\n",
    "print(most_frequent(df_news['3_grams'].loc[df_news.cluster==2], 10))\n",
    "print('\\n')\n",
    "print('10 examples of headines:')\n",
    "print(df_news.headline_text.loc[df_news.cluster==2].head(10))"
   ]
  },
  {
   "cell_type": "markdown",
   "metadata": {},
   "source": [
    "A label for this cluster group is: <b>X</b>"
   ]
  },
  {
   "cell_type": "markdown",
   "metadata": {},
   "source": [
    "#### Cluster 3:"
   ]
  },
  {
   "cell_type": "code",
   "execution_count": 38,
   "metadata": {},
   "outputs": [
    {
     "name": "stdout",
     "output_type": "stream",
     "text": [
      "Top 10 words:\n",
      "['save', 'rural', 'nation', 'hour', 'win', 'show', 'lead', 'fund', 'award', 'news']\n",
      "\n",
      "\n",
      "Top 10 2-grams:\n",
      "['broken-hill', 'fund-boost', 'countri-hour', 'qld-countri', 'rural-quarter', 'age-care', 'news-wednesday', 'nation-rural', 'rural-news', 'news-thursday']\n",
      "\n",
      "\n",
      "Top 10 3-grams:\n",
      "['rural-news-thursday', 'age-care-centr', 'qld-countri-hour', 'age-care-facil', 'rural-qld-rural', 'qld-rural-report', 'mental-health-fund', 'age-care-fund', 'rural-news-wednesday', 'nation-rural-news']\n",
      "\n",
      "\n",
      "10 examples of headines:\n",
      "1566                       coetzer wins again in acapulco\n",
      "1625                            kucera wins in copenhagen\n",
      "2460      nsw govt announces mater cancer treatment funds\n",
      "2499    commonwealth threatens to withdraw forestry funds\n",
      "2633           govts reach douglas arterial rd compromise\n",
      "3168                           roff leads brumbies to win\n",
      "3392                       aged care funds under question\n",
      "3928                             hospice funding resolved\n",
      "4089                     leisel leads breast stroke field\n",
      "4149                      leisel leads breaststroke field\n",
      "Name: headline_text, dtype: object\n"
     ]
    }
   ],
   "source": [
    "print('Top 10 words:')\n",
    "print(most_frequent(df_news.text.loc[df_news.cluster==3], 10))\n",
    "print('\\n')\n",
    "print('Top 10 2-grams:')\n",
    "print(most_frequent(df_news['2_grams'].loc[df_news.cluster==3], 10))\n",
    "print('\\n')\n",
    "print('Top 10 3-grams:')\n",
    "print(most_frequent(df_news['3_grams'].loc[df_news.cluster==3], 10))\n",
    "print('\\n')\n",
    "print('10 examples of headines:')\n",
    "print(df_news.headline_text.loc[df_news.cluster==3].head(10))"
   ]
  },
  {
   "cell_type": "markdown",
   "metadata": {},
   "source": [
    "A label for this cluster group is: <b>X</b>"
   ]
  },
  {
   "cell_type": "markdown",
   "metadata": {},
   "source": [
    "#### Cluster 4:"
   ]
  },
  {
   "cell_type": "code",
   "execution_count": 39,
   "metadata": {},
   "outputs": [
    {
     "name": "stdout",
     "output_type": "stream",
     "text": [
      "Top 10 words:\n",
      "['new', 'miss', 'health', 'market', 'death', 'kill', 'govt', 'call', 'australian', 'australia']\n",
      "\n",
      "\n",
      "Top 10 2-grams:\n",
      "['health-servic', 'south-africa', 'hour-podcast', 'new-zealand', 'search-miss', 'north-korea', 'mental-health', 'countri-hour', 'media-call', 'share-market']\n",
      "\n",
      "\n",
      "Top 10 3-grams:\n",
      "['tas-countri-hour', 'countri-hour-podcast', 'busi-news-market', 'australian-share-market', 'nsw-countri-hour', 'abc-busi-news', 'sa-countri-hour', 'vic-countri-hour', 'wa-countri-hour', 'news-market-analysi']\n",
      "\n",
      "\n",
      "10 examples of headines:\n",
      "0                   surge in new car sales in aust abs\n",
      "1          new zealand imposes visa entry for zimbabwe\n",
      "6            worksafe probes potato harvester injuries\n",
      "9     unions to ask members to support public protests\n",
      "10           six palestinians killed in gaza incursion\n",
      "15                record amount for gladstone ventures\n",
      "16     peace agreement may bring respite for venezuela\n",
      "19               girl injured in head on highway crash\n",
      "20                 orientation begins for uni students\n",
      "23         nth koreans seek asylum at japanese embassy\n",
      "Name: headline_text, dtype: object\n"
     ]
    }
   ],
   "source": [
    "print('Top 10 words:')\n",
    "print(most_frequent(df_news.text.loc[df_news.cluster==4], 10))\n",
    "print('\\n')\n",
    "print('Top 10 2-grams:')\n",
    "print(most_frequent(df_news['2_grams'].loc[df_news.cluster==4], 10))\n",
    "print('\\n')\n",
    "print('Top 10 3-grams:')\n",
    "print(most_frequent(df_news['3_grams'].loc[df_news.cluster==4], 10))\n",
    "print('\\n')\n",
    "print('10 examples of headines:')\n",
    "print(df_news.headline_text.loc[df_news.cluster==4].head(10))"
   ]
  },
  {
   "cell_type": "markdown",
   "metadata": {},
   "source": [
    "A label for this cluster group is: <b>X</b>"
   ]
  },
  {
   "cell_type": "markdown",
   "metadata": {},
   "source": [
    "#### Cluster 5:"
   ]
  },
  {
   "cell_type": "code",
   "execution_count": 40,
   "metadata": {},
   "outputs": [
    {
     "name": "stdout",
     "output_type": "stream",
     "text": [
      "Top 10 words:\n",
      "['set', 'year', 'court', 'win', 'crash', 'cup', 'drug', 'gold', 'new', 'forc']\n",
      "\n",
      "\n",
      "Top 10 2-grams:\n",
      "['rural-news', 'live-stream', 'nation-rural', 'broken-hill', 'grand-final', 'gold-coast', 'world-cup', 'plane-crash', 'high-court', 'court-hear']\n",
      "\n",
      "\n",
      "Top 10 3-grams:\n",
      "['ash-test-day', 'nation-rural-news', 'live-stream-updat', 'light-plane-crash', 'afl-live-stream', 'man-front-court', 'test-day-two', 'test-day-one', 'nrl-live-stream', 'rugbi-world-cup']\n",
      "\n",
      "\n",
      "10 examples of headines:\n",
      "5                  refshauge wins defamation court case\n",
      "8                  teen to face court over drug charges\n",
      "11                           bathhouse plans move ahead\n",
      "14    aussie qualifier stosur wastes four memphis match\n",
      "24             meeting to consider tick clearance costs\n",
      "33        man arrested after central qld hijack attempt\n",
      "43        martin to lobby against losing nt seat in fed\n",
      "75          massive drug crop discovered in western nsw\n",
      "77               gold coast to hear about bilby project\n",
      "87                    funds allocated for youth at risk\n",
      "Name: headline_text, dtype: object\n"
     ]
    }
   ],
   "source": [
    "print('Top 10 words:')\n",
    "print(most_frequent(df_news.text.loc[df_news.cluster==5], 10))\n",
    "print('\\n')\n",
    "print('Top 10 2-grams:')\n",
    "print(most_frequent(df_news['2_grams'].loc[df_news.cluster==5], 10))\n",
    "print('\\n')\n",
    "print('Top 10 3-grams:')\n",
    "print(most_frequent(df_news['3_grams'].loc[df_news.cluster==5], 10))\n",
    "print('\\n')\n",
    "print('10 examples of headines:')\n",
    "print(df_news.headline_text.loc[df_news.cluster==5].head(10))"
   ]
  },
  {
   "cell_type": "markdown",
   "metadata": {},
   "source": [
    "A label for this cluster group is: <b>X</b>"
   ]
  },
  {
   "cell_type": "code",
   "execution_count": null,
   "metadata": {},
   "outputs": [],
   "source": []
  },
  {
   "cell_type": "code",
   "execution_count": null,
   "metadata": {},
   "outputs": [],
   "source": []
  }
 ],
 "metadata": {
  "kernelspec": {
   "display_name": "Python 3",
   "language": "python",
   "name": "python3"
  },
  "language_info": {
   "codemirror_mode": {
    "name": "ipython",
    "version": 3
   },
   "file_extension": ".py",
   "mimetype": "text/x-python",
   "name": "python",
   "nbconvert_exporter": "python",
   "pygments_lexer": "ipython3",
   "version": "3.5.2"
  }
 },
 "nbformat": 4,
 "nbformat_minor": 2
}
