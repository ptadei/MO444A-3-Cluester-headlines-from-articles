{
 "cells": [
  {
   "cell_type": "code",
   "execution_count": 1,
   "metadata": {},
   "outputs": [],
   "source": [
    "import pandas as pd\n",
    "import numpy as np\n",
    "import matplotlib.pyplot as plt\n",
    "import seaborn as sns\n",
    "import time\n",
    "from sklearn.externals import joblib\n",
    "from scipy.sparse import hstack\n",
    "%matplotlib inline"
   ]
  },
  {
   "cell_type": "code",
   "execution_count": 2,
   "metadata": {},
   "outputs": [
    {
     "name": "stdout",
     "output_type": "stream",
     "text": [
      "Rows: 1000001\n"
     ]
    },
    {
     "data": {
      "text/html": [
       "<div>\n",
       "<style scoped>\n",
       "    .dataframe tbody tr th:only-of-type {\n",
       "        vertical-align: middle;\n",
       "    }\n",
       "\n",
       "    .dataframe tbody tr th {\n",
       "        vertical-align: top;\n",
       "    }\n",
       "\n",
       "    .dataframe thead th {\n",
       "        text-align: right;\n",
       "    }\n",
       "</style>\n",
       "<table border=\"1\" class=\"dataframe\">\n",
       "  <thead>\n",
       "    <tr style=\"text-align: right;\">\n",
       "      <th></th>\n",
       "      <th>publish_date</th>\n",
       "      <th>headline_text</th>\n",
       "      <th>publish_year</th>\n",
       "    </tr>\n",
       "  </thead>\n",
       "  <tbody>\n",
       "    <tr>\n",
       "      <th>23668</th>\n",
       "      <td>2003-02-19</td>\n",
       "      <td>surge in new car sales in aust abs</td>\n",
       "      <td>2003</td>\n",
       "    </tr>\n",
       "    <tr>\n",
       "      <th>6089</th>\n",
       "      <td>2003-02-19</td>\n",
       "      <td>new zealand imposes visa entry for zimbabwe</td>\n",
       "      <td>2003</td>\n",
       "    </tr>\n",
       "    <tr>\n",
       "      <th>8208</th>\n",
       "      <td>2003-02-19</td>\n",
       "      <td>nsw opp defends claims of running race campaign</td>\n",
       "      <td>2003</td>\n",
       "    </tr>\n",
       "    <tr>\n",
       "      <th>29533</th>\n",
       "      <td>2003-02-19</td>\n",
       "      <td>qantas war plan to cut 2500 jobs outrages unions</td>\n",
       "      <td>2003</td>\n",
       "    </tr>\n",
       "    <tr>\n",
       "      <th>20646</th>\n",
       "      <td>2003-02-19</td>\n",
       "      <td>sterrey to steer sharks</td>\n",
       "      <td>2003</td>\n",
       "    </tr>\n",
       "  </tbody>\n",
       "</table>\n",
       "</div>"
      ],
      "text/plain": [
       "      publish_date                                     headline_text  \\\n",
       "23668   2003-02-19                surge in new car sales in aust abs   \n",
       "6089    2003-02-19       new zealand imposes visa entry for zimbabwe   \n",
       "8208    2003-02-19   nsw opp defends claims of running race campaign   \n",
       "29533   2003-02-19  qantas war plan to cut 2500 jobs outrages unions   \n",
       "20646   2003-02-19                           sterrey to steer sharks   \n",
       "\n",
       "       publish_year  \n",
       "23668          2003  \n",
       "6089           2003  \n",
       "8208           2003  \n",
       "29533          2003  \n",
       "20646          2003  "
      ]
     },
     "execution_count": 2,
     "metadata": {},
     "output_type": "execute_result"
    }
   ],
   "source": [
    "df_news = pd.read_csv('../data/news_headlines.csv')\n",
    "df_news.publish_date = pd.to_datetime(df_news.publish_date, format='%Y%m%d')\n",
    "df_news['publish_year'] = df_news.publish_date.dt.year\n",
    "df_news.sort_values('publish_date', inplace=True)\n",
    "print('Rows: {}'.format(df_news.shape[0]))\n",
    "df_news.head()"
   ]
  },
  {
   "cell_type": "markdown",
   "metadata": {},
   "source": [
    "### Checking for duplicates in dataset"
   ]
  },
  {
   "cell_type": "code",
   "execution_count": 3,
   "metadata": {},
   "outputs": [
    {
     "data": {
      "text/plain": [
       "<matplotlib.axes._subplots.AxesSubplot at 0x7f6a467b48d0>"
      ]
     },
     "execution_count": 3,
     "metadata": {},
     "output_type": "execute_result"
    },
    {
     "data": {
      "image/png": "[encoded data removed]",
      "text/plain": [
       "<Figure size 216x216 with 1 Axes>"
      ]
     },
     "metadata": {},
     "output_type": "display_data"
    }
   ],
   "source": [
    "df_news.duplicated().map({True: 'Duplicated', False: 'Unique'}).value_counts().plot(\n",
    "    kind='pie', autopct='%.2f%%', figsize=(3, 3), label='')"
   ]
  },
  {
   "cell_type": "markdown",
   "metadata": {},
   "source": [
    "Example of duplicated"
   ]
  },
  {
   "cell_type": "code",
   "execution_count": 4,
   "metadata": {},
   "outputs": [
    {
     "data": {
      "text/html": [
       "<div>\n",
       "<style scoped>\n",
       "    .dataframe tbody tr th:only-of-type {\n",
       "        vertical-align: middle;\n",
       "    }\n",
       "\n",
       "    .dataframe tbody tr th {\n",
       "        vertical-align: top;\n",
       "    }\n",
       "\n",
       "    .dataframe thead th {\n",
       "        text-align: right;\n",
       "    }\n",
       "</style>\n",
       "<table border=\"1\" class=\"dataframe\">\n",
       "  <thead>\n",
       "    <tr style=\"text-align: right;\">\n",
       "      <th></th>\n",
       "      <th>publish_date</th>\n",
       "      <th>headline_text</th>\n",
       "      <th>publish_year</th>\n",
       "    </tr>\n",
       "  </thead>\n",
       "  <tbody>\n",
       "    <tr>\n",
       "      <th>968711</th>\n",
       "      <td>2017-07-03</td>\n",
       "      <td>mans body found in river murray mannum</td>\n",
       "      <td>2017</td>\n",
       "    </tr>\n",
       "    <tr>\n",
       "      <th>976437</th>\n",
       "      <td>2017-07-03</td>\n",
       "      <td>mans body found in river murray mannum</td>\n",
       "      <td>2017</td>\n",
       "    </tr>\n",
       "  </tbody>\n",
       "</table>\n",
       "</div>"
      ],
      "text/plain": [
       "       publish_date                           headline_text  publish_year\n",
       "968711   2017-07-03  mans body found in river murray mannum          2017\n",
       "976437   2017-07-03  mans body found in river murray mannum          2017"
      ]
     },
     "execution_count": 4,
     "metadata": {},
     "output_type": "execute_result"
    }
   ],
   "source": [
    "df_news.loc[df_news.headline_text == 'mans body found in river murray mannum']"
   ]
  },
  {
   "cell_type": "code",
   "execution_count": 5,
   "metadata": {},
   "outputs": [],
   "source": [
    "df_news.drop_duplicates(inplace=True)"
   ]
  },
  {
   "cell_type": "code",
   "execution_count": 6,
   "metadata": {},
   "outputs": [
    {
     "data": {
      "image/png": "[encoded data removed]",
      "text/plain": [
       "<Figure size 1080x288 with 1 Axes>"
      ]
     },
     "metadata": {},
     "output_type": "display_data"
    }
   ],
   "source": [
    "fig, ax = plt.subplots(figsize=(15,4))\n",
    "df_news.publish_date.hist(ax=ax, bins=300);"
   ]
  },
  {
   "cell_type": "markdown",
   "metadata": {},
   "source": [
    "# Pre processing text"
   ]
  },
  {
   "cell_type": "code",
   "execution_count": 7,
   "metadata": {},
   "outputs": [],
   "source": [
    "from nltk.tokenize import word_tokenize\n",
    "from nltk.corpus import stopwords\n",
    "from nltk.stem.snowball import SnowballStemmer\n",
    "import string\n",
    "\n",
    "stopwords = stopwords.words('english')\n",
    "stemmer = SnowballStemmer('english')\n",
    "\n",
    "def pre_processing(text):\n",
    "    words = word_tokenize(text.lower(), language='english')\n",
    "    words = [w for w in words if not w in stopwords]  # Remove stop words\n",
    "    words = [w for w in words if not w in string.punctuation]  # Remove pontuacao\n",
    "    words = [stemmer.stem(w) for w in words]  # Extrai radical da palavra\n",
    "    return ' '.join(words)\n",
    "def n_grams(text,n):\n",
    "    words = word_tokenize(text.lower(), language='english')\n",
    "    words = [words[i:i+n] for i in range(len(words)-n+1)]\n",
    "    words = ['-'.join(words[i]) for i in range(len(words))]\n",
    "    return ' '.join(words)\n",
    "def char_ngrams(text,n):\n",
    "    words = ''.join(text.lower().split())\n",
    "    words = [words[i:i+n] for i in range(len(words)-n+1)]\n",
    "    return ' '.join(words)\n",
    "\n"
   ]
  },
  {
   "cell_type": "code",
   "execution_count": 8,
   "metadata": {},
   "outputs": [
    {
     "name": "stdout",
     "output_type": "stream",
     "text": [
      "Elapsed time on text pre-processing: 4 minutes and 59 seconds.\n"
     ]
    },
    {
     "data": {
      "text/html": [
       "<div>\n",
       "<style scoped>\n",
       "    .dataframe tbody tr th:only-of-type {\n",
       "        vertical-align: middle;\n",
       "    }\n",
       "\n",
       "    .dataframe tbody tr th {\n",
       "        vertical-align: top;\n",
       "    }\n",
       "\n",
       "    .dataframe thead th {\n",
       "        text-align: right;\n",
       "    }\n",
       "</style>\n",
       "<table border=\"1\" class=\"dataframe\">\n",
       "  <thead>\n",
       "    <tr style=\"text-align: right;\">\n",
       "      <th></th>\n",
       "      <th>publish_date</th>\n",
       "      <th>headline_text</th>\n",
       "      <th>publish_year</th>\n",
       "      <th>text</th>\n",
       "      <th>2_grams</th>\n",
       "      <th>3_grams</th>\n",
       "      <th>4_chargrams</th>\n",
       "    </tr>\n",
       "  </thead>\n",
       "  <tbody>\n",
       "    <tr>\n",
       "      <th>23668</th>\n",
       "      <td>2003-02-19</td>\n",
       "      <td>surge in new car sales in aust abs</td>\n",
       "      <td>2003</td>\n",
       "      <td>surg new car sale aust ab</td>\n",
       "      <td>surg-new new-car car-sale sale-aust aust-ab</td>\n",
       "      <td>surg-new-car new-car-sale car-sale-aust sale-a...</td>\n",
       "      <td>surg urgn rgne gnew newc ewca wcar cars arsa r...</td>\n",
       "    </tr>\n",
       "    <tr>\n",
       "      <th>6089</th>\n",
       "      <td>2003-02-19</td>\n",
       "      <td>new zealand imposes visa entry for zimbabwe</td>\n",
       "      <td>2003</td>\n",
       "      <td>new zealand impos visa entri zimbabw</td>\n",
       "      <td>new-zealand zealand-impos impos-visa visa-entr...</td>\n",
       "      <td>new-zealand-impos zealand-impos-visa impos-vis...</td>\n",
       "      <td>newz ewze wzea zeal eala alan land andi ndim d...</td>\n",
       "    </tr>\n",
       "    <tr>\n",
       "      <th>8208</th>\n",
       "      <td>2003-02-19</td>\n",
       "      <td>nsw opp defends claims of running race campaign</td>\n",
       "      <td>2003</td>\n",
       "      <td>nsw opp defend claim run race campaign</td>\n",
       "      <td>nsw-opp opp-defend defend-claim claim-run run-...</td>\n",
       "      <td>nsw-opp-defend opp-defend-claim defend-claim-r...</td>\n",
       "      <td>nswo swop wopp oppd ppde pdef defe efen fend e...</td>\n",
       "    </tr>\n",
       "    <tr>\n",
       "      <th>29533</th>\n",
       "      <td>2003-02-19</td>\n",
       "      <td>qantas war plan to cut 2500 jobs outrages unions</td>\n",
       "      <td>2003</td>\n",
       "      <td>qanta war plan cut 2500 job outrag union</td>\n",
       "      <td>qanta-war war-plan plan-cut cut-2500 2500-job ...</td>\n",
       "      <td>qanta-war-plan war-plan-cut plan-cut-2500 cut-...</td>\n",
       "      <td>qant anta ntaw tawa awar warp arpl rpla plan l...</td>\n",
       "    </tr>\n",
       "    <tr>\n",
       "      <th>20646</th>\n",
       "      <td>2003-02-19</td>\n",
       "      <td>sterrey to steer sharks</td>\n",
       "      <td>2003</td>\n",
       "      <td>sterrey steer shark</td>\n",
       "      <td>sterrey-steer steer-shark</td>\n",
       "      <td>sterrey-steer-shark</td>\n",
       "      <td>ster terr erre rrey reys eyst yste stee teer e...</td>\n",
       "    </tr>\n",
       "  </tbody>\n",
       "</table>\n",
       "</div>"
      ],
      "text/plain": [
       "      publish_date                                     headline_text  \\\n",
       "23668   2003-02-19                surge in new car sales in aust abs   \n",
       "6089    2003-02-19       new zealand imposes visa entry for zimbabwe   \n",
       "8208    2003-02-19   nsw opp defends claims of running race campaign   \n",
       "29533   2003-02-19  qantas war plan to cut 2500 jobs outrages unions   \n",
       "20646   2003-02-19                           sterrey to steer sharks   \n",
       "\n",
       "       publish_year                                      text  \\\n",
       "23668          2003                 surg new car sale aust ab   \n",
       "6089           2003      new zealand impos visa entri zimbabw   \n",
       "8208           2003    nsw opp defend claim run race campaign   \n",
       "29533          2003  qanta war plan cut 2500 job outrag union   \n",
       "20646          2003                       sterrey steer shark   \n",
       "\n",
       "                                                 2_grams  \\\n",
       "23668        surg-new new-car car-sale sale-aust aust-ab   \n",
       "6089   new-zealand zealand-impos impos-visa visa-entr...   \n",
       "8208   nsw-opp opp-defend defend-claim claim-run run-...   \n",
       "29533  qanta-war war-plan plan-cut cut-2500 2500-job ...   \n",
       "20646                          sterrey-steer steer-shark   \n",
       "\n",
       "                                                 3_grams  \\\n",
       "23668  surg-new-car new-car-sale car-sale-aust sale-a...   \n",
       "6089   new-zealand-impos zealand-impos-visa impos-vis...   \n",
       "8208   nsw-opp-defend opp-defend-claim defend-claim-r...   \n",
       "29533  qanta-war-plan war-plan-cut plan-cut-2500 cut-...   \n",
       "20646                                sterrey-steer-shark   \n",
       "\n",
       "                                             4_chargrams  \n",
       "23668  surg urgn rgne gnew newc ewca wcar cars arsa r...  \n",
       "6089   newz ewze wzea zeal eala alan land andi ndim d...  \n",
       "8208   nswo swop wopp oppd ppde pdef defe efen fend e...  \n",
       "29533  qant anta ntaw tawa awar warp arpl rpla plan l...  \n",
       "20646  ster terr erre rrey reys eyst yste stee teer e...  "
      ]
     },
     "execution_count": 8,
     "metadata": {},
     "output_type": "execute_result"
    }
   ],
   "source": [
    "tic = time.time()\n",
    "\n",
    "df_news['text'] = df_news.headline_text.apply(pre_processing)\n",
    "df_news['2_grams'] = df_news.text.apply(lambda x: n_grams(x,2))\n",
    "df_news['3_grams'] = df_news.text.apply(lambda x: n_grams(x,3))\n",
    "df_news['4_chargrams'] = df_news.text.apply(lambda x: char_ngrams(x,4))\n",
    "\n",
    "toc = time.time()\n",
    "print('Elapsed time on text pre-processing: %d minutes and %d seconds.' % ((toc-tic)/60,(toc-tic)%60))\n",
    "df_news.head()"
   ]
  },
  {
   "cell_type": "code",
   "execution_count": 9,
   "metadata": {},
   "outputs": [
    {
     "data": {
      "text/plain": [
       "<matplotlib.axes._subplots.AxesSubplot at 0x7f6a465ad2e8>"
      ]
     },
     "execution_count": 9,
     "metadata": {},
     "output_type": "execute_result"
    },
    {
     "data": {
      "image/png": "[encoded data removed]",
      "text/plain": [
       "<Figure size 576x144 with 1 Axes>"
      ]
     },
     "metadata": {},
     "output_type": "display_data"
    }
   ],
   "source": [
    "df_news.publish_year.value_counts().plot(kind='bar', figsize=(8, 2))"
   ]
  },
  {
   "cell_type": "code",
   "execution_count": 10,
   "metadata": {},
   "outputs": [],
   "source": [
    "df_news.to_pickle('df_news.pkl')"
   ]
  },
  {
   "cell_type": "markdown",
   "metadata": {},
   "source": [
    "# Feature extraction"
   ]
  },
  {
   "cell_type": "markdown",
   "metadata": {},
   "source": [
    "### Using entire dataset:"
   ]
  },
  {
   "cell_type": "code",
   "execution_count": 11,
   "metadata": {},
   "outputs": [],
   "source": [
    "from sklearn.externals import joblib\n",
    "\n",
    "df_news = joblib.load('df_news.pkl')"
   ]
  },
  {
   "cell_type": "code",
   "execution_count": 12,
   "metadata": {},
   "outputs": [],
   "source": [
    "df_news = df_news.reset_index().drop('index', axis=1)"
   ]
  },
  {
   "cell_type": "code",
   "execution_count": 13,
   "metadata": {},
   "outputs": [],
   "source": [
    "sentences = df_news.headline_text.map(lambda x: x.split())"
   ]
  },
  {
   "cell_type": "code",
   "execution_count": 14,
   "metadata": {},
   "outputs": [],
   "source": [
    "from gensim.models import Word2Vec\n",
    "\n",
    "model = Word2Vec(sentences, min_count=50,size=300,workers=4)"
   ]
  },
  {
   "cell_type": "code",
   "execution_count": 15,
   "metadata": {},
   "outputs": [],
   "source": [
    "def invocab(sentence):\n",
    "    x = []\n",
    "    for i in range(len(sentence)):\n",
    "        if(sentence[i] in model.wv.vocab.keys()):\n",
    "            x.append(sentence[i])\n",
    "    return x"
   ]
  },
  {
   "cell_type": "code",
   "execution_count": 16,
   "metadata": {},
   "outputs": [],
   "source": [
    "texts = sentences.map(lambda x: invocab(x))"
   ]
  },
  {
   "cell_type": "code",
   "execution_count": 17,
   "metadata": {},
   "outputs": [],
   "source": [
    "features = np.zeros((texts.shape[0],300))\n",
    "for i,text in enumerate(texts):\n",
    "    if len(text) != 0:\n",
    "        feats = model.wv[text].sum(axis=0)\n",
    "        features[i] = feats\n",
    "    else:\n",
    "        feats = np.zeros((300,))\n",
    "        features[i] = feats"
   ]
  },
  {
   "cell_type": "code",
   "execution_count": 18,
   "metadata": {},
   "outputs": [],
   "source": [
    "from sklearn.preprocessing import normalize\n",
    "\n",
    "features = normalize(features)"
   ]
  },
  {
   "cell_type": "code",
   "execution_count": 19,
   "metadata": {},
   "outputs": [
    {
     "data": {
      "text/plain": [
       "['features_.pkl']"
      ]
     },
     "execution_count": 19,
     "metadata": {},
     "output_type": "execute_result"
    }
   ],
   "source": [
    "joblib.dump(features,'features_.pkl')"
   ]
  },
  {
   "cell_type": "markdown",
   "metadata": {},
   "source": [
    "# Clustering:"
   ]
  },
  {
   "cell_type": "code",
   "execution_count": 20,
   "metadata": {},
   "outputs": [],
   "source": [
    "features = joblib.load('features_.pkl')"
   ]
  },
  {
   "cell_type": "code",
   "execution_count": 21,
   "metadata": {},
   "outputs": [],
   "source": [
    "def validity(model, N):\n",
    "    intra = (model.inertia_ / N)\n",
    "    centers = model.cluster_centers_\n",
    "    flag = 1e10\n",
    "    for i in range(centers.shape[0]):\n",
    "        for j in range(i+1, centers.shape[0]):\n",
    "            distance = paired_distances(centers[i].reshape(-1,1),centers[j].reshape(-1,1)).sum()\n",
    "            if distance<flag:\n",
    "                flag=distance\n",
    "    inter = flag\n",
    "    return intra/inter"
   ]
  },
  {
   "cell_type": "markdown",
   "metadata": {},
   "source": [
    "### Estimating number of clusters:"
   ]
  },
  {
   "cell_type": "code",
   "execution_count": 22,
   "metadata": {},
   "outputs": [
    {
     "name": "stdout",
     "output_type": "stream",
     "text": [
      "Number of clusters: 2\n",
      "Elapsed time: 0 hours, 0 minutes and 2 seconds\n",
      "Number of clusters: 3\n",
      "Elapsed time: 0 hours, 0 minutes and 2 seconds\n",
      "Number of clusters: 4\n",
      "Elapsed time: 0 hours, 0 minutes and 2 seconds\n",
      "Number of clusters: 5\n",
      "Elapsed time: 0 hours, 0 minutes and 2 seconds\n",
      "Number of clusters: 6\n",
      "Elapsed time: 0 hours, 0 minutes and 2 seconds\n",
      "Number of clusters: 7\n",
      "Elapsed time: 0 hours, 0 minutes and 2 seconds\n",
      "Number of clusters: 8\n",
      "Elapsed time: 0 hours, 0 minutes and 1 seconds\n",
      "Number of clusters: 9\n",
      "Elapsed time: 0 hours, 0 minutes and 2 seconds\n",
      "Number of clusters: 10\n",
      "Elapsed time: 0 hours, 0 minutes and 2 seconds\n",
      "Number of clusters: 11\n",
      "Elapsed time: 0 hours, 0 minutes and 2 seconds\n",
      "Number of clusters: 12\n",
      "Elapsed time: 0 hours, 0 minutes and 2 seconds\n",
      "Number of clusters: 13\n",
      "Elapsed time: 0 hours, 0 minutes and 2 seconds\n",
      "Number of clusters: 14\n",
      "Elapsed time: 0 hours, 0 minutes and 2 seconds\n",
      "Number of clusters: 15\n",
      "Elapsed time: 0 hours, 0 minutes and 2 seconds\n",
      "Number of clusters: 16\n",
      "Elapsed time: 0 hours, 0 minutes and 2 seconds\n",
      "Number of clusters: 17\n",
      "Elapsed time: 0 hours, 0 minutes and 2 seconds\n",
      "Number of clusters: 18\n",
      "Elapsed time: 0 hours, 0 minutes and 2 seconds\n",
      "Number of clusters: 19\n",
      "Elapsed time: 0 hours, 0 minutes and 2 seconds\n",
      "Number of clusters: 20\n",
      "Elapsed time: 0 hours, 0 minutes and 2 seconds\n",
      "Number of clusters: 21\n",
      "Elapsed time: 0 hours, 0 minutes and 2 seconds\n",
      "Number of clusters: 22\n",
      "Elapsed time: 0 hours, 0 minutes and 2 seconds\n",
      "Number of clusters: 23\n",
      "Elapsed time: 0 hours, 0 minutes and 2 seconds\n",
      "Number of clusters: 24\n",
      "Elapsed time: 0 hours, 0 minutes and 2 seconds\n",
      "Number of clusters: 25\n",
      "Elapsed time: 0 hours, 0 minutes and 2 seconds\n",
      "Number of clusters: 26\n",
      "Elapsed time: 0 hours, 0 minutes and 2 seconds\n",
      "Number of clusters: 27\n",
      "Elapsed time: 0 hours, 0 minutes and 2 seconds\n",
      "Number of clusters: 28\n",
      "Elapsed time: 0 hours, 0 minutes and 2 seconds\n",
      "Number of clusters: 29\n",
      "Elapsed time: 0 hours, 0 minutes and 2 seconds\n",
      "Number of clusters: 30\n",
      "Elapsed time: 0 hours, 0 minutes and 2 seconds\n"
     ]
    }
   ],
   "source": [
    "import os\n",
    "from sklearn.cluster import KMeans\n",
    "from sklearn.cluster import MiniBatchKMeans\n",
    "from tqdm import tqdm_notebook\n",
    "from scipy.spatial.distance import cdist\n",
    "from sklearn.metrics import silhouette_score\n",
    "from sklearn.metrics.pairwise import paired_distances\n",
    "use_cache = True\n",
    "\n",
    "inertias, scores, sils, val = [], [], [], []\n",
    "n_clusters = range(2,31,1)\n",
    "N = features.shape[0]\n",
    "for n_cluster in n_clusters:\n",
    "    tic = time.time()\n",
    "    cluster_path = os.path.join('KMeans', 'KMeans_w2v_headline{}.pkl'.format(n_cluster))\n",
    "    if not use_cache or not os.path.exists(cluster_path):\n",
    "        cluster = KMeans(n_cluster, random_state=42, max_iter = 300, n_jobs=-1)\n",
    "        cluster.fit(features)\n",
    "        joblib.dump(cluster, cluster_path)\n",
    "    else:\n",
    "        cluster = joblib.load(cluster_path)\n",
    "    inertias.append(cluster.inertia_)\n",
    "    scores.append(cluster.score(features))  \n",
    "    sils.append(silhouette_score(features, cluster.labels_, random_state=42, sample_size=5000))\n",
    "    val.append(validity(cluster,N))\n",
    "    print('Number of clusters: %d' % n_cluster)\n",
    "    toc = time.time()\n",
    "    print('Elapsed time: %d hours, %d minutes and %d seconds' % ((toc-tic)/3600,((toc-tic)/60)%60,(toc-tic)%60))\n"
   ]
  },
  {
   "cell_type": "code",
   "execution_count": 23,
   "metadata": {},
   "outputs": [],
   "source": [
    "import numpy as np\n",
    "\n",
    "def plot(name, data, line_func=None):\n",
    "    fig, ax = plt.subplots(1, sharex=True, sharey=True, figsize=(12, 5))\n",
    "    ax.plot(n_clusters, data)\n",
    "    if line_func:\n",
    "        ax.axvline(n_clusters[line_func(data)], color='gray', alpha=0.3)\n",
    "    ax.set_xlabel('Number of clusters')\n",
    "    ax.set_ylabel(name)\n",
    "    ax.set_title('Elbow method')\n",
    "    plt.xticks(n_clusters)"
   ]
  },
  {
   "cell_type": "code",
   "execution_count": 24,
   "metadata": {
    "scrolled": false
   },
   "outputs": [
    {
     "data": {
      "image/png": "[encoded data removed]",
      "text/plain": [
       "<Figure size 864x360 with 1 Axes>"
      ]
     },
     "metadata": {},
     "output_type": "display_data"
    }
   ],
   "source": [
    "plot('Score', scores, np.argmax)"
   ]
  },
  {
   "cell_type": "code",
   "execution_count": 25,
   "metadata": {},
   "outputs": [
    {
     "data": {
      "image/png": "[encoded data removed]",
      "text/plain": [
       "<Figure size 864x360 with 1 Axes>"
      ]
     },
     "metadata": {},
     "output_type": "display_data"
    }
   ],
   "source": [
    "plot('Inertia', inertias, np.argmin)"
   ]
  },
  {
   "cell_type": "code",
   "execution_count": 26,
   "metadata": {},
   "outputs": [
    {
     "data": {
      "image/png": "[encoded data removed]",
      "text/plain": [
       "<Figure size 864x360 with 1 Axes>"
      ]
     },
     "metadata": {},
     "output_type": "display_data"
    }
   ],
   "source": [
    "plot('Validation', val, np.argmin)"
   ]
  },
  {
   "cell_type": "code",
   "execution_count": 27,
   "metadata": {},
   "outputs": [
    {
     "data": {
      "image/png": "[encoded data removed]",
      "text/plain": [
       "<Figure size 864x360 with 1 Axes>"
      ]
     },
     "metadata": {},
     "output_type": "display_data"
    }
   ],
   "source": [
    "plot('Silhouette', sils, np.argmax)"
   ]
  },
  {
   "cell_type": "code",
   "execution_count": 28,
   "metadata": {},
   "outputs": [
    {
     "name": "stdout",
     "output_type": "stream",
     "text": [
      "Ideal number of clusters, based on silhouete and inertia analysis: 7\n"
     ]
    }
   ],
   "source": [
    "print('Ideal number of clusters, based on silhouete and inertia analysis: 7')"
   ]
  },
  {
   "cell_type": "markdown",
   "metadata": {},
   "source": [
    "# Definition of label names"
   ]
  },
  {
   "cell_type": "code",
   "execution_count": 29,
   "metadata": {},
   "outputs": [],
   "source": [
    "from sklearn.feature_extraction.text import CountVectorizer\n",
    "\n",
    "def most_frequent(texts, n=10):\n",
    "        counts = CountVectorizer(max_features=n, token_pattern=r'\\w+-*\\w+-*\\w+')\n",
    "        counts.fit_transform(texts)\n",
    "        return [key for key in counts.vocabulary_]"
   ]
  },
  {
   "cell_type": "code",
   "execution_count": 30,
   "metadata": {},
   "outputs": [],
   "source": [
    "cluster_path = \"KMeans/KMeans_w2v_headline7.pkl\"\n",
    "cluster = joblib.load(cluster_path)\n",
    "features = joblib.load('features_.pkl')"
   ]
  },
  {
   "cell_type": "code",
   "execution_count": 31,
   "metadata": {},
   "outputs": [],
   "source": [
    "df_news['cluster'] = cluster.predict(features)"
   ]
  },
  {
   "cell_type": "markdown",
   "metadata": {},
   "source": [
    "#### Cluster 0:"
   ]
  },
  {
   "cell_type": "code",
   "execution_count": 32,
   "metadata": {},
   "outputs": [
    {
     "name": "stdout",
     "output_type": "stream",
     "text": [
      "Top 10 words:\n",
      "['speak', 'call', 'john', 'interview', 'extend', 'guilti', 'michael', 'media', 'plead', 'andrew']\n",
      "\n",
      "\n",
      "Top 10 2-grams:\n",
      "['interview-john', 'interview-david', 'media-call', 'interview-michael', 'extend-interview', 'interview-jame', 'interview-andrew', 'plead-guilti', 'interview-chris', 'interview-ben']\n",
      "\n",
      "\n",
      "Top 10 3-grams:\n",
      "['steven-schubert-speak', 'interview-shane-flanagan', 'interview-des-hasler', 'interview-trent-robinson', 'interview-ivan-cleari', 'interview-michael-maguir', 'interview-david-furner', 'belinda-varischetti-interview', 'interview-john-cartwright', 'interview-geoff-toovey']\n",
      "\n",
      "\n",
      "10 examples of headines:\n",
      "845                           drowned fishermen named\n",
      "890              east timor seeks help to try wiranto\n",
      "1077                        petitions oppose brothels\n",
      "1324      minister asks retailers to stand by produce\n",
      "1513               ama backs heroin trial for addicts\n",
      "1657            nsw dpp supports limited heroin trial\n",
      "1702    northern tablelands candidate pays tribute to\n",
      "1871               wilkinson honoured by captains cap\n",
      "2110            cross examination continues for burke\n",
      "2153                womadelaide aims for kindred vibe\n",
      "Name: headline_text, dtype: object\n"
     ]
    }
   ],
   "source": [
    "print('Top 10 words:')\n",
    "print(most_frequent(df_news.text.loc[df_news.cluster==0], 10))\n",
    "print('\\n')\n",
    "print('Top 10 2-grams:')\n",
    "print(most_frequent(df_news['2_grams'].loc[df_news.cluster==0], 10))\n",
    "print('\\n')\n",
    "print('Top 10 3-grams:')\n",
    "print(most_frequent(df_news['3_grams'].loc[df_news.cluster==0], 10))\n",
    "print('\\n')\n",
    "print('10 examples of headines:')\n",
    "print(df_news.headline_text.loc[df_news.cluster==0].head(10))"
   ]
  },
  {
   "cell_type": "markdown",
   "metadata": {},
   "source": [
    "A label for this cluster group is: X"
   ]
  },
  {
   "cell_type": "markdown",
   "metadata": {},
   "source": [
    "#### Cluster 1:"
   ]
  },
  {
   "cell_type": "code",
   "execution_count": 33,
   "metadata": {},
   "outputs": [
    {
     "name": "stdout",
     "output_type": "stream",
     "text": [
      "Top 10 words:\n",
      "['day', 'year', 'call', 'plan', 'australia', 'australian', 'first', 'report', 'market', 'new']\n",
      "\n",
      "\n",
      "Top 10 2-grams:\n",
      "['sri-lanka', 'world-cup', 'rural-news', 'new-zealand', 'abc-busi', 'nation-rural', 'share-market', 'hour-podcast', 'climat-chang', 'countri-hour']\n",
      "\n",
      "\n",
      "Top 10 3-grams:\n",
      "['busi-news-market', 'tas-countri-hour', 'nsw-countri-hour', 'nation-rural-news', 'news-market-analysi', 'wa-countri-hour', 'countri-hour-podcast', 'vic-countri-hour', 'rural-qld-podcast', 'abc-busi-news']\n",
      "\n",
      "\n",
      "10 examples of headines:\n",
      "1           new zealand imposes visa entry for zimbabwe\n",
      "10            six palestinians killed in gaza incursion\n",
      "14    aussie qualifier stosur wastes four memphis match\n",
      "20                  orientation begins for uni students\n",
      "23          nth koreans seek asylum at japanese embassy\n",
      "26             bushfire victims urged to see centrelink\n",
      "34               community urged to help homeless youth\n",
      "36                   nsw opp pledges 50m drought relief\n",
      "42             pienaar shines as ajax frustrate arsenal\n",
      "46        more than 40 pc of young men drink alcohol at\n",
      "Name: headline_text, dtype: object\n"
     ]
    }
   ],
   "source": [
    "print('Top 10 words:')\n",
    "print(most_frequent(df_news.text.loc[df_news.cluster==1], 10))\n",
    "print('\\n')\n",
    "print('Top 10 2-grams:')\n",
    "print(most_frequent(df_news['2_grams'].loc[df_news.cluster==1], 10))\n",
    "print('\\n')\n",
    "print('Top 10 3-grams:')\n",
    "print(most_frequent(df_news['3_grams'].loc[df_news.cluster==1], 10))\n",
    "print('\\n')\n",
    "print('10 examples of headines:')\n",
    "print(df_news.headline_text.loc[df_news.cluster==1].head(10))"
   ]
  },
  {
   "cell_type": "markdown",
   "metadata": {},
   "source": [
    "A label for this cluster group is: <b>X</b>"
   ]
  },
  {
   "cell_type": "markdown",
   "metadata": {},
   "source": [
    "#### Cluster 2:"
   ]
  },
  {
   "cell_type": "code",
   "execution_count": 34,
   "metadata": {},
   "outputs": [
    {
     "name": "stdout",
     "output_type": "stream",
     "text": [
      "Top 10 words:\n",
      "['court', 'accus', 'man', 'charg', 'face', 'men', 'trial', 'murder', 'stab', 'polic']\n",
      "\n",
      "\n",
      "Top 10 2-grams:\n",
      "['guilti-plea', 'man-charg', 'murder-charg', 'face-trial', 'man-face', 'face-court', 'polic-charg', 'remand-custodi', 'charg-laid', 'two-men']\n",
      "\n",
      "\n",
      "Top 10 3-grams:\n",
      "['man-face-court', 'attempt-murder-charg', 'alleg-peopl-smuggler', 'gang-rape-accus', 'face-murder-charg', 'child-sex-charg', 'murder-accus-face', 'pair-face-trial', 'accus-remand-custodi', 'accus-face-trial']\n",
      "\n",
      "\n",
      "10 examples of headines:\n",
      "408     brothel owner fronts court after allegedly hiring\n",
      "1090             police prepare case over stabbing charge\n",
      "1300      man allowed to appeal against murder conviction\n",
      "2120            five sent to trial over sydney gang rapes\n",
      "2721     police charge 10 teenagers after brawl at sydney\n",
      "2848        us girl found nine months after disappearance\n",
      "3002                   manhunt after shooting in adelaide\n",
      "3081         court to decide on bail for sex case accused\n",
      "3193               players fume after qatar chop decision\n",
      "3423            police lay charges after operation viking\n",
      "Name: headline_text, dtype: object\n"
     ]
    }
   ],
   "source": [
    "print('Top 10 words:')\n",
    "print(most_frequent(df_news.text.loc[df_news.cluster==2], 10))\n",
    "print('\\n')\n",
    "print('Top 10 2-grams:')\n",
    "print(most_frequent(df_news['2_grams'].loc[df_news.cluster==2], 10))\n",
    "print('\\n')\n",
    "print('Top 10 3-grams:')\n",
    "print(most_frequent(df_news['3_grams'].loc[df_news.cluster==2], 10))\n",
    "print('\\n')\n",
    "print('10 examples of headines:')\n",
    "print(df_news.headline_text.loc[df_news.cluster==2].head(10))"
   ]
  },
  {
   "cell_type": "markdown",
   "metadata": {},
   "source": [
    "A label for this cluster group is: <b>X</b>"
   ]
  },
  {
   "cell_type": "markdown",
   "metadata": {},
   "source": [
    "#### Cluster 3:"
   ]
  },
  {
   "cell_type": "code",
   "execution_count": 35,
   "metadata": {},
   "outputs": [
    {
     "name": "stdout",
     "output_type": "stream",
     "text": [
      "Top 10 words:\n",
      "['council', 'man', 'fire', 'plan', 'polic', 'win', 'say', 'govt', 'back', 'new']\n",
      "\n",
      "\n",
      "Top 10 2-grams:\n",
      "['polic-investig', 'car-crash', 'asylum-seeker', 'broken-hill', 'man-die', 'gold-coast', 'face-court', 'govt-urg', 'rate-rise', 'plead-guilti']\n",
      "\n",
      "\n",
      "Top 10 3-grams:\n",
      "['get-green-light', 'nation-press-club', 'man-plead-guilti', 'far-north-qld', 'one-plus-one', 'man-face-court', 'great-barrier-reef', 'man-front-court', 'mid-north-coast', 'front-court-accus']\n",
      "\n",
      "\n",
      "10 examples of headines:\n",
      "0                   surge in new car sales in aust abs\n",
      "2      nsw opp defends claims of running race campaign\n",
      "3     qantas war plan to cut 2500 jobs outrages unions\n",
      "4                              sterrey to steer sharks\n",
      "6            worksafe probes potato harvester injuries\n",
      "7               more women urged to become councillors\n",
      "8                 teen to face court over drug charges\n",
      "9     unions to ask members to support public protests\n",
      "11                          bathhouse plans move ahead\n",
      "12               stop changing the rules fans tell afl\n",
      "Name: headline_text, dtype: object\n"
     ]
    }
   ],
   "source": [
    "print('Top 10 words:')\n",
    "print(most_frequent(df_news.text.loc[df_news.cluster==3], 10))\n",
    "print('\\n')\n",
    "print('Top 10 2-grams:')\n",
    "print(most_frequent(df_news['2_grams'].loc[df_news.cluster==3], 10))\n",
    "print('\\n')\n",
    "print('Top 10 3-grams:')\n",
    "print(most_frequent(df_news['3_grams'].loc[df_news.cluster==3], 10))\n",
    "print('\\n')\n",
    "print('10 examples of headines:')\n",
    "print(df_news.headline_text.loc[df_news.cluster==3].head(10))"
   ]
  },
  {
   "cell_type": "markdown",
   "metadata": {},
   "source": [
    "A label for this cluster group is: <b>X</b>"
   ]
  },
  {
   "cell_type": "markdown",
   "metadata": {},
   "source": [
    "#### Cluster 4:"
   ]
  },
  {
   "cell_type": "code",
   "execution_count": 36,
   "metadata": {},
   "outputs": [
    {
     "name": "stdout",
     "output_type": "stream",
     "text": [
      "Top 10 words:\n",
      "['urg', 'two', 'say', 'attack', 'home', 'continu', 'open', 'former', 'claim', 'lead']\n",
      "\n",
      "\n",
      "Top 10 2-grams:\n",
      "['wild-oat', 'islam-state', 'australian-open', 'gay-marriag', 'plead-guilti', 'wild-dog', 'vow-fight', 'open-lead', 'al-qaeda', 'us-open']\n",
      "\n",
      "\n",
      "Top 10 3-grams:\n",
      "['man-plead-guilti', 'guilti-child-sex', 'wild-oat-xi', 'plead-guilti-child', 'ban-two-match', 'child-sex-charg', 'plead-guilti-murder', 'al-qaeda-suspect', 'al-qaeda-claim', 'al-qaeda-link']\n",
      "\n",
      "\n",
      "10 examples of headines:\n",
      "117             mugabe to touch down in paris for summit\n",
      "118          injured rios pulls out of buenos aires open\n",
      "127       brigadier dismisses reports troops harassed in\n",
      "141    deportivo slip against buoyant swiss minnows b...\n",
      "144         more than 60 detained after immigration raid\n",
      "248                        etienne agrees to tyson fight\n",
      "276           aek shut out malaga to claim goalless draw\n",
      "295    telstra punished after massive hong kong write...\n",
      "346                   funk leads elkington in california\n",
      "450               ferrero escude hobble out of rotterdam\n",
      "Name: headline_text, dtype: object\n"
     ]
    }
   ],
   "source": [
    "print('Top 10 words:')\n",
    "print(most_frequent(df_news.text.loc[df_news.cluster==4], 10))\n",
    "print('\\n')\n",
    "print('Top 10 2-grams:')\n",
    "print(most_frequent(df_news['2_grams'].loc[df_news.cluster==4], 10))\n",
    "print('\\n')\n",
    "print('Top 10 3-grams:')\n",
    "print(most_frequent(df_news['3_grams'].loc[df_news.cluster==4], 10))\n",
    "print('\\n')\n",
    "print('10 examples of headines:')\n",
    "print(df_news.headline_text.loc[df_news.cluster==4].head(10))"
   ]
  },
  {
   "cell_type": "markdown",
   "metadata": {},
   "source": [
    "A label for this cluster group is: <b>X</b>"
   ]
  },
  {
   "cell_type": "markdown",
   "metadata": {},
   "source": [
    "#### Cluster 5:"
   ]
  },
  {
   "cell_type": "code",
   "execution_count": 37,
   "metadata": {},
   "outputs": [
    {
     "name": "stdout",
     "output_type": "stream",
     "text": [
      "Top 10 words:\n",
      "['jail', 'age', 'prison', 'charg', 'drop', 'former', 'dead', 'top', 'kill', 'die']\n",
      "\n",
      "\n",
      "Top 10 2-grams:\n",
      "['take-charg', 'die-age', 'kill-shoot', 'hundr-kill', 'drug-charg', 'charg-drop', 'year-jail', 'rebel-leader', 'age-74', 'drop-charg']\n",
      "\n",
      "\n",
      "Top 10 3-grams:\n",
      "['die-age-89', 'die-age-81', 'die-age-107', 'die-age-90', 'die-age-69', 'die-age-76', 'die-age-74', 'die-age-86', 'die-age-85', 'die-age-95']\n",
      "\n",
      "\n",
      "10 examples of headines:\n",
      "3789                              wwi digger dies aged 104\n",
      "4498                       hundreds killed in najaf battle\n",
      "5033                    aust playwright enright dies at 52\n",
      "5382     bolivia mudslide kills 14 400 feared buried alive\n",
      "6335                kurdish forces seize towns near kirkuk\n",
      "7956                               yze cleared at tribunal\n",
      "8618              ivory coast rebel chief killed in ambush\n",
      "9616                  former apartheid fighter sisulu dies\n",
      "11731    church employee warned against raising suspicions\n",
      "12999                fremantle prison descendants honoured\n",
      "Name: headline_text, dtype: object\n"
     ]
    }
   ],
   "source": [
    "print('Top 10 words:')\n",
    "print(most_frequent(df_news.text.loc[df_news.cluster==5], 10))\n",
    "print('\\n')\n",
    "print('Top 10 2-grams:')\n",
    "print(most_frequent(df_news['2_grams'].loc[df_news.cluster==5], 10))\n",
    "print('\\n')\n",
    "print('Top 10 3-grams:')\n",
    "print(most_frequent(df_news['3_grams'].loc[df_news.cluster==5], 10))\n",
    "print('\\n')\n",
    "print('10 examples of headines:')\n",
    "print(df_news.headline_text.loc[df_news.cluster==5].head(10))"
   ]
  },
  {
   "cell_type": "markdown",
   "metadata": {},
   "source": [
    "A label for this cluster group is: <b>X</b>"
   ]
  },
  {
   "cell_type": "markdown",
   "metadata": {},
   "source": [
    "#### Cluster 6:"
   ]
  },
  {
   "cell_type": "code",
   "execution_count": 38,
   "metadata": {},
   "outputs": [
    {
     "name": "stdout",
     "output_type": "stream",
     "text": [
      "Top 10 words:\n",
      "['jail', 'man', 'court', 'polic', 'woman', 'charg', 'murder', 'death', 'miss', 'kill']\n",
      "\n",
      "\n",
      "Top 10 2-grams:\n",
      "['car-crash', 'man-jail', 'man-arrest', 'refus-bail', 'polic-probe', 'murder-trial', 'search-miss', 'man-charg', 'bodi-found', 'face-court']\n",
      "\n",
      "\n",
      "Top 10 3-grams:\n",
      "['child-sex-offenc', 'charg-attempt-murder', 'man-charg-murder', 'polic-search-miss', 'search-continu-miss', 'fatal-car-crash', 'man-face-court', 's-death', 'man-front-court', 'car-bomb-kill']\n",
      "\n",
      "\n",
      "10 examples of headines:\n",
      "5                   refshauge wins defamation court case\n",
      "27            police defend aboriginal tent embassy raid\n",
      "35       search continues for victims in s korean subway\n",
      "78       german court to give verdict on sept 11 accused\n",
      "86                 irish man arrested over omagh bombing\n",
      "95                         snowtown murder trial delayed\n",
      "99     investigations underway into death toll of korean\n",
      "103              jury to consider verdict in murder case\n",
      "106             nca defends aboriginal tent embassy raid\n",
      "108                dog mauls 18 month old toddler in nsw\n",
      "Name: headline_text, dtype: object\n"
     ]
    }
   ],
   "source": [
    "print('Top 10 words:')\n",
    "print(most_frequent(df_news.text.loc[df_news.cluster==6], 10))\n",
    "print('\\n')\n",
    "print('Top 10 2-grams:')\n",
    "print(most_frequent(df_news['2_grams'].loc[df_news.cluster==6], 10))\n",
    "print('\\n')\n",
    "print('Top 10 3-grams:')\n",
    "print(most_frequent(df_news['3_grams'].loc[df_news.cluster==6], 10))\n",
    "print('\\n')\n",
    "print('10 examples of headines:')\n",
    "print(df_news.headline_text.loc[df_news.cluster==6].head(10))"
   ]
  },
  {
   "cell_type": "markdown",
   "metadata": {},
   "source": [
    "A label for this cluster group is: <b>X</b>"
   ]
  },
  {
   "cell_type": "code",
   "execution_count": null,
   "metadata": {},
   "outputs": [],
   "source": []
  },
  {
   "cell_type": "code",
   "execution_count": null,
   "metadata": {},
   "outputs": [],
   "source": []
  }
 ],
 "metadata": {
  "kernelspec": {
   "display_name": "Python 3",
   "language": "python",
   "name": "python3"
  },
  "language_info": {
   "codemirror_mode": {
    "name": "ipython",
    "version": 3
   },
   "file_extension": ".py",
   "mimetype": "text/x-python",
   "name": "python",
   "nbconvert_exporter": "python",
   "pygments_lexer": "ipython3",
   "version": "3.5.2"
  }
 },
 "nbformat": 4,
 "nbformat_minor": 2
}
