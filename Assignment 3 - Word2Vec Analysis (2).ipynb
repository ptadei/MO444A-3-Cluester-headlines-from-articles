{
 "cells": [
  {
   "cell_type": "code",
   "execution_count": 1,
   "metadata": {},
   "outputs": [],
   "source": [
    "import pandas as pd\n",
    "import numpy as np\n",
    "import matplotlib.pyplot as plt\n",
    "import seaborn as sns\n",
    "import time\n",
    "from sklearn.externals import joblib\n",
    "from scipy.sparse import hstack\n",
    "%matplotlib inline"
   ]
  },
  {
   "cell_type": "code",
   "execution_count": 2,
   "metadata": {},
   "outputs": [
    {
     "name": "stdout",
     "output_type": "stream",
     "text": [
      "Rows: 1000001\n"
     ]
    },
    {
     "data": {
      "text/html": [
       "<div>\n",
       "<style scoped>\n",
       "    .dataframe tbody tr th:only-of-type {\n",
       "        vertical-align: middle;\n",
       "    }\n",
       "\n",
       "    .dataframe tbody tr th {\n",
       "        vertical-align: top;\n",
       "    }\n",
       "\n",
       "    .dataframe thead th {\n",
       "        text-align: right;\n",
       "    }\n",
       "</style>\n",
       "<table border=\"1\" class=\"dataframe\">\n",
       "  <thead>\n",
       "    <tr style=\"text-align: right;\">\n",
       "      <th></th>\n",
       "      <th>publish_date</th>\n",
       "      <th>headline_text</th>\n",
       "      <th>publish_year</th>\n",
       "    </tr>\n",
       "  </thead>\n",
       "  <tbody>\n",
       "    <tr>\n",
       "      <th>23668</th>\n",
       "      <td>2003-02-19</td>\n",
       "      <td>surge in new car sales in aust abs</td>\n",
       "      <td>2003</td>\n",
       "    </tr>\n",
       "    <tr>\n",
       "      <th>6089</th>\n",
       "      <td>2003-02-19</td>\n",
       "      <td>new zealand imposes visa entry for zimbabwe</td>\n",
       "      <td>2003</td>\n",
       "    </tr>\n",
       "    <tr>\n",
       "      <th>8208</th>\n",
       "      <td>2003-02-19</td>\n",
       "      <td>nsw opp defends claims of running race campaign</td>\n",
       "      <td>2003</td>\n",
       "    </tr>\n",
       "    <tr>\n",
       "      <th>29533</th>\n",
       "      <td>2003-02-19</td>\n",
       "      <td>qantas war plan to cut 2500 jobs outrages unions</td>\n",
       "      <td>2003</td>\n",
       "    </tr>\n",
       "    <tr>\n",
       "      <th>20646</th>\n",
       "      <td>2003-02-19</td>\n",
       "      <td>sterrey to steer sharks</td>\n",
       "      <td>2003</td>\n",
       "    </tr>\n",
       "  </tbody>\n",
       "</table>\n",
       "</div>"
      ],
      "text/plain": [
       "      publish_date                                     headline_text  \\\n",
       "23668   2003-02-19                surge in new car sales in aust abs   \n",
       "6089    2003-02-19       new zealand imposes visa entry for zimbabwe   \n",
       "8208    2003-02-19   nsw opp defends claims of running race campaign   \n",
       "29533   2003-02-19  qantas war plan to cut 2500 jobs outrages unions   \n",
       "20646   2003-02-19                           sterrey to steer sharks   \n",
       "\n",
       "       publish_year  \n",
       "23668          2003  \n",
       "6089           2003  \n",
       "8208           2003  \n",
       "29533          2003  \n",
       "20646          2003  "
      ]
     },
     "execution_count": 2,
     "metadata": {},
     "output_type": "execute_result"
    }
   ],
   "source": [
    "df_news = pd.read_csv('../data/news_headlines.csv')\n",
    "df_news.publish_date = pd.to_datetime(df_news.publish_date, format='%Y%m%d')\n",
    "df_news['publish_year'] = df_news.publish_date.dt.year\n",
    "df_news.sort_values('publish_date', inplace=True)\n",
    "print('Rows: {}'.format(df_news.shape[0]))\n",
    "df_news.head()"
   ]
  },
  {
   "cell_type": "markdown",
   "metadata": {},
   "source": [
    "### Checking for duplicates in dataset"
   ]
  },
  {
   "cell_type": "code",
   "execution_count": 3,
   "metadata": {},
   "outputs": [
    {
     "data": {
      "text/plain": [
       "<matplotlib.axes._subplots.AxesSubplot at 0x7f197fb53710>"
      ]
     },
     "execution_count": 3,
     "metadata": {},
     "output_type": "execute_result"
    },
    {
     "data": {
      "image/png": "[encoded data removed]",
      "text/plain": [
       "<Figure size 216x216 with 1 Axes>"
      ]
     },
     "metadata": {},
     "output_type": "display_data"
    }
   ],
   "source": [
    "df_news.duplicated().map({True: 'Duplicated', False: 'Unique'}).value_counts().plot(\n",
    "    kind='pie', autopct='%.2f%%', figsize=(3, 3), label='')"
   ]
  },
  {
   "cell_type": "markdown",
   "metadata": {},
   "source": [
    "Example of duplicated"
   ]
  },
  {
   "cell_type": "code",
   "execution_count": 4,
   "metadata": {},
   "outputs": [
    {
     "data": {
      "text/html": [
       "<div>\n",
       "<style scoped>\n",
       "    .dataframe tbody tr th:only-of-type {\n",
       "        vertical-align: middle;\n",
       "    }\n",
       "\n",
       "    .dataframe tbody tr th {\n",
       "        vertical-align: top;\n",
       "    }\n",
       "\n",
       "    .dataframe thead th {\n",
       "        text-align: right;\n",
       "    }\n",
       "</style>\n",
       "<table border=\"1\" class=\"dataframe\">\n",
       "  <thead>\n",
       "    <tr style=\"text-align: right;\">\n",
       "      <th></th>\n",
       "      <th>publish_date</th>\n",
       "      <th>headline_text</th>\n",
       "      <th>publish_year</th>\n",
       "    </tr>\n",
       "  </thead>\n",
       "  <tbody>\n",
       "    <tr>\n",
       "      <th>968711</th>\n",
       "      <td>2017-07-03</td>\n",
       "      <td>mans body found in river murray mannum</td>\n",
       "      <td>2017</td>\n",
       "    </tr>\n",
       "    <tr>\n",
       "      <th>976437</th>\n",
       "      <td>2017-07-03</td>\n",
       "      <td>mans body found in river murray mannum</td>\n",
       "      <td>2017</td>\n",
       "    </tr>\n",
       "  </tbody>\n",
       "</table>\n",
       "</div>"
      ],
      "text/plain": [
       "       publish_date                           headline_text  publish_year\n",
       "968711   2017-07-03  mans body found in river murray mannum          2017\n",
       "976437   2017-07-03  mans body found in river murray mannum          2017"
      ]
     },
     "execution_count": 4,
     "metadata": {},
     "output_type": "execute_result"
    }
   ],
   "source": [
    "df_news.loc[df_news.headline_text == 'mans body found in river murray mannum']"
   ]
  },
  {
   "cell_type": "code",
   "execution_count": 5,
   "metadata": {},
   "outputs": [],
   "source": [
    "df_news.drop_duplicates(inplace=True)"
   ]
  },
  {
   "cell_type": "code",
   "execution_count": 6,
   "metadata": {},
   "outputs": [
    {
     "data": {
      "image/png": "[encoded data removed]",
      "text/plain": [
       "<Figure size 1080x288 with 1 Axes>"
      ]
     },
     "metadata": {},
     "output_type": "display_data"
    }
   ],
   "source": [
    "fig, ax = plt.subplots(figsize=(15,4))\n",
    "df_news.publish_date.hist(ax=ax, bins=300);"
   ]
  },
  {
   "cell_type": "markdown",
   "metadata": {},
   "source": [
    "# Pre processing text"
   ]
  },
  {
   "cell_type": "code",
   "execution_count": 7,
   "metadata": {},
   "outputs": [],
   "source": [
    "from nltk.tokenize import word_tokenize\n",
    "from nltk.corpus import stopwords\n",
    "from nltk.stem.snowball import SnowballStemmer\n",
    "import string\n",
    "\n",
    "stopwords = stopwords.words('english')\n",
    "stemmer = SnowballStemmer('english')\n",
    "\n",
    "def pre_processing(text):\n",
    "    words = word_tokenize(text.lower(), language='english')\n",
    "    words = [w for w in words if not w in stopwords]  # Remove stop words\n",
    "    words = [w for w in words if not w in string.punctuation]  # Remove pontuacao\n",
    "    words = [stemmer.stem(w) for w in words]  # Extrai radical da palavra\n",
    "    return ' '.join(words)\n",
    "def n_grams(text,n):\n",
    "    words = word_tokenize(text.lower(), language='english')\n",
    "    words = [words[i:i+n] for i in range(len(words)-n+1)]\n",
    "    words = ['-'.join(words[i]) for i in range(len(words))]\n",
    "    return ' '.join(words)\n",
    "def char_ngrams(text,n):\n",
    "    words = ''.join(text.lower().split())\n",
    "    words = [words[i:i+n] for i in range(len(words)-n+1)]\n",
    "    return ' '.join(words)\n",
    "\n"
   ]
  },
  {
   "cell_type": "code",
   "execution_count": 8,
   "metadata": {},
   "outputs": [
    {
     "name": "stdout",
     "output_type": "stream",
     "text": [
      "Elapsed time on text pre-processing: 4 minutes and 23 seconds.\n"
     ]
    },
    {
     "data": {
      "text/html": [
       "<div>\n",
       "<style scoped>\n",
       "    .dataframe tbody tr th:only-of-type {\n",
       "        vertical-align: middle;\n",
       "    }\n",
       "\n",
       "    .dataframe tbody tr th {\n",
       "        vertical-align: top;\n",
       "    }\n",
       "\n",
       "    .dataframe thead th {\n",
       "        text-align: right;\n",
       "    }\n",
       "</style>\n",
       "<table border=\"1\" class=\"dataframe\">\n",
       "  <thead>\n",
       "    <tr style=\"text-align: right;\">\n",
       "      <th></th>\n",
       "      <th>publish_date</th>\n",
       "      <th>headline_text</th>\n",
       "      <th>publish_year</th>\n",
       "      <th>text</th>\n",
       "      <th>2_grams</th>\n",
       "      <th>3_grams</th>\n",
       "      <th>4_chargrams</th>\n",
       "    </tr>\n",
       "  </thead>\n",
       "  <tbody>\n",
       "    <tr>\n",
       "      <th>23668</th>\n",
       "      <td>2003-02-19</td>\n",
       "      <td>surge in new car sales in aust abs</td>\n",
       "      <td>2003</td>\n",
       "      <td>surg new car sale aust ab</td>\n",
       "      <td>surg-new new-car car-sale sale-aust aust-ab</td>\n",
       "      <td>surg-new-car new-car-sale car-sale-aust sale-a...</td>\n",
       "      <td>surg urgn rgne gnew newc ewca wcar cars arsa r...</td>\n",
       "    </tr>\n",
       "    <tr>\n",
       "      <th>6089</th>\n",
       "      <td>2003-02-19</td>\n",
       "      <td>new zealand imposes visa entry for zimbabwe</td>\n",
       "      <td>2003</td>\n",
       "      <td>new zealand impos visa entri zimbabw</td>\n",
       "      <td>new-zealand zealand-impos impos-visa visa-entr...</td>\n",
       "      <td>new-zealand-impos zealand-impos-visa impos-vis...</td>\n",
       "      <td>newz ewze wzea zeal eala alan land andi ndim d...</td>\n",
       "    </tr>\n",
       "    <tr>\n",
       "      <th>8208</th>\n",
       "      <td>2003-02-19</td>\n",
       "      <td>nsw opp defends claims of running race campaign</td>\n",
       "      <td>2003</td>\n",
       "      <td>nsw opp defend claim run race campaign</td>\n",
       "      <td>nsw-opp opp-defend defend-claim claim-run run-...</td>\n",
       "      <td>nsw-opp-defend opp-defend-claim defend-claim-r...</td>\n",
       "      <td>nswo swop wopp oppd ppde pdef defe efen fend e...</td>\n",
       "    </tr>\n",
       "    <tr>\n",
       "      <th>29533</th>\n",
       "      <td>2003-02-19</td>\n",
       "      <td>qantas war plan to cut 2500 jobs outrages unions</td>\n",
       "      <td>2003</td>\n",
       "      <td>qanta war plan cut 2500 job outrag union</td>\n",
       "      <td>qanta-war war-plan plan-cut cut-2500 2500-job ...</td>\n",
       "      <td>qanta-war-plan war-plan-cut plan-cut-2500 cut-...</td>\n",
       "      <td>qant anta ntaw tawa awar warp arpl rpla plan l...</td>\n",
       "    </tr>\n",
       "    <tr>\n",
       "      <th>20646</th>\n",
       "      <td>2003-02-19</td>\n",
       "      <td>sterrey to steer sharks</td>\n",
       "      <td>2003</td>\n",
       "      <td>sterrey steer shark</td>\n",
       "      <td>sterrey-steer steer-shark</td>\n",
       "      <td>sterrey-steer-shark</td>\n",
       "      <td>ster terr erre rrey reys eyst yste stee teer e...</td>\n",
       "    </tr>\n",
       "  </tbody>\n",
       "</table>\n",
       "</div>"
      ],
      "text/plain": [
       "      publish_date                                     headline_text  \\\n",
       "23668   2003-02-19                surge in new car sales in aust abs   \n",
       "6089    2003-02-19       new zealand imposes visa entry for zimbabwe   \n",
       "8208    2003-02-19   nsw opp defends claims of running race campaign   \n",
       "29533   2003-02-19  qantas war plan to cut 2500 jobs outrages unions   \n",
       "20646   2003-02-19                           sterrey to steer sharks   \n",
       "\n",
       "       publish_year                                      text  \\\n",
       "23668          2003                 surg new car sale aust ab   \n",
       "6089           2003      new zealand impos visa entri zimbabw   \n",
       "8208           2003    nsw opp defend claim run race campaign   \n",
       "29533          2003  qanta war plan cut 2500 job outrag union   \n",
       "20646          2003                       sterrey steer shark   \n",
       "\n",
       "                                                 2_grams  \\\n",
       "23668        surg-new new-car car-sale sale-aust aust-ab   \n",
       "6089   new-zealand zealand-impos impos-visa visa-entr...   \n",
       "8208   nsw-opp opp-defend defend-claim claim-run run-...   \n",
       "29533  qanta-war war-plan plan-cut cut-2500 2500-job ...   \n",
       "20646                          sterrey-steer steer-shark   \n",
       "\n",
       "                                                 3_grams  \\\n",
       "23668  surg-new-car new-car-sale car-sale-aust sale-a...   \n",
       "6089   new-zealand-impos zealand-impos-visa impos-vis...   \n",
       "8208   nsw-opp-defend opp-defend-claim defend-claim-r...   \n",
       "29533  qanta-war-plan war-plan-cut plan-cut-2500 cut-...   \n",
       "20646                                sterrey-steer-shark   \n",
       "\n",
       "                                             4_chargrams  \n",
       "23668  surg urgn rgne gnew newc ewca wcar cars arsa r...  \n",
       "6089   newz ewze wzea zeal eala alan land andi ndim d...  \n",
       "8208   nswo swop wopp oppd ppde pdef defe efen fend e...  \n",
       "29533  qant anta ntaw tawa awar warp arpl rpla plan l...  \n",
       "20646  ster terr erre rrey reys eyst yste stee teer e...  "
      ]
     },
     "execution_count": 8,
     "metadata": {},
     "output_type": "execute_result"
    }
   ],
   "source": [
    "tic = time.time()\n",
    "\n",
    "df_news['text'] = df_news.headline_text.apply(pre_processing)\n",
    "df_news['2_grams'] = df_news.text.apply(lambda x: n_grams(x,2))\n",
    "df_news['3_grams'] = df_news.text.apply(lambda x: n_grams(x,3))\n",
    "df_news['4_chargrams'] = df_news.text.apply(lambda x: char_ngrams(x,4))\n",
    "\n",
    "toc = time.time()\n",
    "print('Elapsed time on text pre-processing: %d minutes and %d seconds.' % ((toc-tic)/60,(toc-tic)%60))\n",
    "df_news.head()"
   ]
  },
  {
   "cell_type": "code",
   "execution_count": 9,
   "metadata": {},
   "outputs": [
    {
     "data": {
      "text/plain": [
       "<matplotlib.axes._subplots.AxesSubplot at 0x7f1988638208>"
      ]
     },
     "execution_count": 9,
     "metadata": {},
     "output_type": "execute_result"
    },
    {
     "data": {
      "image/png": "[encoded data removed]",
      "text/plain": [
       "<Figure size 576x144 with 1 Axes>"
      ]
     },
     "metadata": {},
     "output_type": "display_data"
    }
   ],
   "source": [
    "df_news.publish_year.value_counts().plot(kind='bar', figsize=(8, 2))"
   ]
  },
  {
   "cell_type": "code",
   "execution_count": 10,
   "metadata": {},
   "outputs": [],
   "source": [
    "df_news.to_pickle('df_news.pkl')"
   ]
  },
  {
   "cell_type": "markdown",
   "metadata": {},
   "source": [
    "# Feature extraction"
   ]
  },
  {
   "cell_type": "markdown",
   "metadata": {},
   "source": [
    "### Using entire dataset:"
   ]
  },
  {
   "cell_type": "code",
   "execution_count": 11,
   "metadata": {},
   "outputs": [],
   "source": [
    "from sklearn.externals import joblib\n",
    "\n",
    "df_news = joblib.load('df_news.pkl')"
   ]
  },
  {
   "cell_type": "code",
   "execution_count": 12,
   "metadata": {},
   "outputs": [],
   "source": [
    "df_news = df_news.reset_index().drop('index', axis=1)"
   ]
  },
  {
   "cell_type": "code",
   "execution_count": 13,
   "metadata": {},
   "outputs": [],
   "source": [
    "sentences = df_news.headline_text.map(lambda x: x.split())"
   ]
  },
  {
   "cell_type": "code",
   "execution_count": 14,
   "metadata": {},
   "outputs": [],
   "source": [
    "from gensim.models import Word2Vec\n",
    "\n",
    "model = Word2Vec(sentences, min_count=50,size=300,workers=4)"
   ]
  },
  {
   "cell_type": "code",
   "execution_count": 15,
   "metadata": {},
   "outputs": [],
   "source": [
    "def invocab(sentence):\n",
    "    x = []\n",
    "    for i in range(len(sentence)):\n",
    "        if(sentence[i] in model.wv.vocab.keys()):\n",
    "            x.append(sentence[i])\n",
    "    return x"
   ]
  },
  {
   "cell_type": "code",
   "execution_count": 16,
   "metadata": {},
   "outputs": [],
   "source": [
    "texts = sentences.map(lambda x: invocab(x))"
   ]
  },
  {
   "cell_type": "code",
   "execution_count": 17,
   "metadata": {},
   "outputs": [],
   "source": [
    "features = np.zeros((texts.shape[0],300))\n",
    "for i,text in enumerate(texts):\n",
    "    if len(text) != 0:\n",
    "        feats = model.wv[text].sum(axis=0)\n",
    "        features[i] = feats\n",
    "    else:\n",
    "        feats = np.zeros((300,))\n",
    "        features[i] = feats"
   ]
  },
  {
   "cell_type": "code",
   "execution_count": 18,
   "metadata": {},
   "outputs": [],
   "source": [
    "from sklearn.preprocessing import normalize\n",
    "\n",
    "features = normalize(features)"
   ]
  },
  {
   "cell_type": "code",
   "execution_count": 19,
   "metadata": {},
   "outputs": [
    {
     "data": {
      "text/plain": [
       "['features_.pkl']"
      ]
     },
     "execution_count": 19,
     "metadata": {},
     "output_type": "execute_result"
    }
   ],
   "source": [
    "joblib.dump(features,'features_.pkl')"
   ]
  },
  {
   "cell_type": "markdown",
   "metadata": {},
   "source": [
    "# Clustering:"
   ]
  },
  {
   "cell_type": "code",
   "execution_count": 160,
   "metadata": {},
   "outputs": [],
   "source": [
    "features = joblib.load('features_.pkl')"
   ]
  },
  {
   "cell_type": "code",
   "execution_count": 21,
   "metadata": {},
   "outputs": [],
   "source": [
    "def validity(model, N):\n",
    "    intra = (model.inertia_ / N)\n",
    "    centers = model.cluster_centers_\n",
    "    flag = 1e10\n",
    "    for i in range(centers.shape[0]):\n",
    "        for j in range(i+1, centers.shape[0]):\n",
    "            distance = paired_distances(centers[i].reshape(-1,1),centers[j].reshape(-1,1)).sum()\n",
    "            if distance<flag:\n",
    "                flag=distance\n",
    "    inter = flag\n",
    "    return intra/inter"
   ]
  },
  {
   "cell_type": "markdown",
   "metadata": {},
   "source": [
    "### Estimating number of clusters:"
   ]
  },
  {
   "cell_type": "code",
   "execution_count": null,
   "metadata": {},
   "outputs": [],
   "source": [
    "import os\n",
    "from sklearn.cluster import KMeans\n",
    "from sklearn.cluster import MiniBatchKMeans\n",
    "from tqdm import tqdm_notebook\n",
    "from scipy.spatial.distance import cdist\n",
    "from sklearn.metrics import silhouette_score\n",
    "from sklearn.metrics.pairwise import paired_distances\n",
    "use_cache = True\n",
    "\n",
    "inertias, scores, sils, val = [], [], [], []\n",
    "n_clusters = range(2,31,1)\n",
    "N = features.shape[0]\n",
    "for n_cluster in n_clusters:\n",
    "    tic = time.time()\n",
    "    cluster_path = os.path.join('KMeans', 'KMeans_w2v_headline{}.pkl'.format(n_cluster))\n",
    "    if not use_cache or not os.path.exists(cluster_path):\n",
    "        cluster = KMeans(n_cluster, random_state=42, max_iter = 300, n_jobs=-1)\n",
    "        cluster.fit(features)\n",
    "        joblib.dump(cluster, cluster_path)\n",
    "    else:\n",
    "        cluster = joblib.load(cluster_path)\n",
    "    inertias.append(cluster.inertia_)\n",
    "    scores.append(cluster.score(features))  \n",
    "    sils.append(silhouette_score(features, cluster.labels_, random_state=42, sample_size=5000))\n",
    "    val.append(validity(cluster,N))\n",
    "    print('Number of clusters: %d' % n_cluster)\n",
    "    toc = time.time()\n",
    "    print('Elapsed time: %d hours, %d minutes and %d seconds' % ((toc-tic)/3600,((toc-tic)/60)%60,(toc-tic)%60))\n"
   ]
  },
  {
   "cell_type": "code",
   "execution_count": 23,
   "metadata": {},
   "outputs": [],
   "source": [
    "import numpy as np\n",
    "\n",
    "def plot(name, data, line_func=None):\n",
    "    fig, ax = plt.subplots(1, sharex=True, sharey=True, figsize=(12, 5))\n",
    "    ax.plot(n_clusters, data)\n",
    "    if line_func:\n",
    "        ax.axvline(n_clusters[line_func(data)], color='gray', alpha=0.3)\n",
    "    ax.set_xlabel('Number of clusters')\n",
    "    ax.set_ylabel(name)\n",
    "    ax.set_title('Elbow method')"
   ]
  },
  {
   "cell_type": "code",
   "execution_count": 24,
   "metadata": {
    "scrolled": false
   },
   "outputs": [
    {
     "data": {
      "image/png": "[encoded data removed]",
      "text/plain": [
       "<Figure size 864x360 with 1 Axes>"
      ]
     },
     "metadata": {},
     "output_type": "display_data"
    }
   ],
   "source": [
    "plot('Score', scores, np.argmax)"
   ]
  },
  {
   "cell_type": "code",
   "execution_count": 25,
   "metadata": {},
   "outputs": [
    {
     "data": {
      "image/png": "[encoded data removed]",
      "text/plain": [
       "<Figure size 864x360 with 1 Axes>"
      ]
     },
     "metadata": {},
     "output_type": "display_data"
    }
   ],
   "source": [
    "plot('Inertia', inertias, np.argmin)"
   ]
  },
  {
   "cell_type": "code",
   "execution_count": 26,
   "metadata": {},
   "outputs": [
    {
     "data": {
      "image/png": "[encoded data removed]",
      "text/plain": [
       "<Figure size 864x360 with 1 Axes>"
      ]
     },
     "metadata": {},
     "output_type": "display_data"
    }
   ],
   "source": [
    "plot('Validation', val, np.argmin)"
   ]
  },
  {
   "cell_type": "code",
   "execution_count": 27,
   "metadata": {},
   "outputs": [
    {
     "data": {
      "image/png": "[encoded data removed]",
      "text/plain": [
       "<Figure size 864x360 with 1 Axes>"
      ]
     },
     "metadata": {},
     "output_type": "display_data"
    }
   ],
   "source": [
    "plot('Silhouette', sils, np.argmax)"
   ]
  },
  {
   "cell_type": "code",
   "execution_count": 28,
   "metadata": {},
   "outputs": [
    {
     "name": "stdout",
     "output_type": "stream",
     "text": [
      "Ideal number of clusters, based on validation ratio: 11\n"
     ]
    }
   ],
   "source": [
    "print('Ideal number of clusters, based on validation ratio: {}'.format(np.argmin(val)+2))"
   ]
  },
  {
   "cell_type": "markdown",
   "metadata": {},
   "source": [
    "# Definition of label names"
   ]
  },
  {
   "cell_type": "code",
   "execution_count": 100,
   "metadata": {},
   "outputs": [],
   "source": [
    "from sklearn.feature_extraction.text import CountVectorizer\n",
    "\n",
    "def most_frequent(texts, n=10):\n",
    "        counts = CountVectorizer(max_features=n, token_pattern=r'\\w+-*\\w+-*\\w+')\n",
    "        counts.fit_transform(texts)\n",
    "        return [key for key in counts.vocabulary_]"
   ]
  },
  {
   "cell_type": "code",
   "execution_count": 161,
   "metadata": {},
   "outputs": [],
   "source": [
    "cluster_path = \"KMeans/KMeans_w2v_headline11.pkl\"\n",
    "cluster = joblib.load(cluster_path)\n",
    "features = joblib.load('features_.pkl')"
   ]
  },
  {
   "cell_type": "code",
   "execution_count": 164,
   "metadata": {},
   "outputs": [],
   "source": [
    "df_news['cluster'] = cluster.predict(features)"
   ]
  },
  {
   "cell_type": "markdown",
   "metadata": {},
   "source": [
    "#### Cluster 0:"
   ]
  },
  {
   "cell_type": "code",
   "execution_count": 166,
   "metadata": {},
   "outputs": [
    {
     "name": "stdout",
     "output_type": "stream",
     "text": [
      "Top 10 words:\n",
      "['man', 'jail', 'charg', 'murder', 'court', 'polic', 'death', 'face', 'accus', 'drug']\n",
      "\n",
      "\n",
      "Top 10 2-grams:\n",
      "['polic-probe', 'court-told', 'plead-guilti', 'face-court', 'front-court', 'man-charg', 'man-jail', 'child-sex', 'polic-investig', 'man-face']\n",
      "\n",
      "\n",
      "Top 10 3-grams:\n",
      "['man-face-court', 'man-found-guilti', 'man-front-court', 'man-plead-guilti', 'child-sex-abus', 'polic-search-miss', 'front-court-accus', 'child-sex-charg', 'child-sex-offenc', 'man-charg-murder']\n",
      "\n",
      "\n",
      "10 examples of headines:\n",
      "5                 refshauge wins defamation court case\n",
      "8                 teen to face court over drug charges\n",
      "21         kelly disgusted at alleged bp ethanol scare\n",
      "27          police defend aboriginal tent embassy raid\n",
      "78     german court to give verdict on sept 11 accused\n",
      "82               police cracking down on driver safety\n",
      "86               irish man arrested over omagh bombing\n",
      "95                       snowtown murder trial delayed\n",
      "103            jury to consider verdict in murder case\n",
      "106           nca defends aboriginal tent embassy raid\n",
      "Name: headline_text, dtype: object\n"
     ]
    }
   ],
   "source": [
    "print('Top 10 words:')\n",
    "print(most_frequent(df_news.text.loc[df_news.cluster==0], 10))\n",
    "print('\\n')\n",
    "print('Top 10 2-grams:')\n",
    "print(most_frequent(df_news['2_grams'].loc[df_news.cluster==0], 10))\n",
    "print('\\n')\n",
    "print('Top 10 3-grams:')\n",
    "print(most_frequent(df_news['3_grams'].loc[df_news.cluster==0], 10))\n",
    "print('\\n')\n",
    "print('10 examples of headines:')\n",
    "print(df_news.headline_text.loc[df_news.cluster==0].head(10))"
   ]
  },
  {
   "cell_type": "markdown",
   "metadata": {},
   "source": [
    "A label for this cluster group is: X"
   ]
  },
  {
   "cell_type": "markdown",
   "metadata": {},
   "source": [
    "#### Cluster 1:"
   ]
  },
  {
   "cell_type": "code",
   "execution_count": 167,
   "metadata": {},
   "outputs": [
    {
     "name": "stdout",
     "output_type": "stream",
     "text": [
      "Top 10 words:\n",
      "['plan', 'call', 'help', 'set', 'new', 'council', 'get', 'govt', 'fund', 'urg']\n",
      "\n",
      "\n",
      "Top 10 2-grams:\n",
      "['urg-help', 'public-urg', 'farmer-urg', 'council-urg', 'mental-health', 'broken-hill', 'govt-urg', 'resid-urg', 'gold-coast', 'climat-chang']\n",
      "\n",
      "\n",
      "Top 10 3-grams:\n",
      "['fed-govt-urg', 'public-get-say', 'govt-urg-help', 'qld-govt-urg', 'vic-govt-urg', 'public-urg-help', 'move-closer-realiti', 'work-set-start', 'feder-govt-urg', 'govt-urg-boost']\n",
      "\n",
      "\n",
      "10 examples of headines:\n",
      "4                               sterrey to steer sharks\n",
      "7                more women urged to become councillors\n",
      "9      unions to ask members to support public protests\n",
      "24             meeting to consider tick clearance costs\n",
      "26             bushfire victims urged to see centrelink\n",
      "30    expressions of interest sought to build livestock\n",
      "34               community urged to help homeless youth\n",
      "37      patterson defends decision not to attend health\n",
      "41         onesteel to invest 80m in whyalla steelworks\n",
      "43        martin to lobby against losing nt seat in fed\n",
      "Name: headline_text, dtype: object\n"
     ]
    }
   ],
   "source": [
    "print('Top 10 words:')\n",
    "print(most_frequent(df_news.text.loc[df_news.cluster==1], 10))\n",
    "print('\\n')\n",
    "print('Top 10 2-grams:')\n",
    "print(most_frequent(df_news['2_grams'].loc[df_news.cluster==1], 10))\n",
    "print('\\n')\n",
    "print('Top 10 3-grams:')\n",
    "print(most_frequent(df_news['3_grams'].loc[df_news.cluster==1], 10))\n",
    "print('\\n')\n",
    "print('10 examples of headines:')\n",
    "print(df_news.headline_text.loc[df_news.cluster==1].head(10))"
   ]
  },
  {
   "cell_type": "markdown",
   "metadata": {},
   "source": [
    "A label for this cluster group is: <b>X</b>"
   ]
  },
  {
   "cell_type": "markdown",
   "metadata": {},
   "source": [
    "#### Cluster 2:"
   ]
  },
  {
   "cell_type": "code",
   "execution_count": 168,
   "metadata": {},
   "outputs": [
    {
     "name": "stdout",
     "output_type": "stream",
     "text": [
      "Top 10 words:\n",
      "['final', 'cup', 'australia', 'take', 'world', 'win', 'aussi', 'day', 'open', 'lead']\n",
      "\n",
      "\n",
      "Top 10 2-grams:\n",
      "['test-day', 'australian-open', 'south-africa', 'capit-hill', 'sri-lanka', 'new-zealand', 'grand-final', 'world-cup', 'us-open', 'one-day']\n",
      "\n",
      "\n",
      "Top 10 3-grams:\n",
      "['capit-hill-monday', 'test-day-one', 'live-stream-updat', 'tour-de-franc', 'test-day-two', 'one-plus-one', 'ash-test-day', 'rugbi-world-cup', 'capit-hill-wednesday', 'nrl-live-stream']\n",
      "\n",
      "\n",
      "10 examples of headines:\n",
      "14    aussie qualifier stosur wastes four memphis match\n",
      "28               blizzard buries united states in bills\n",
      "29                   reading go third in first division\n",
      "32      calleri avenges final defeat to eliminate massu\n",
      "38      williams says tight bowling key to warriors win\n",
      "42             pienaar shines as ajax frustrate arsenal\n",
      "47               osullivan in world cross country doubt\n",
      "48                    webb favourite for ladies masters\n",
      "59               carews freak goal leaves roma in ruins\n",
      "74                    vowles to retire at end of season\n",
      "Name: headline_text, dtype: object\n"
     ]
    }
   ],
   "source": [
    "print('Top 10 words:')\n",
    "print(most_frequent(df_news.text.loc[df_news.cluster==2], 10))\n",
    "print('\\n')\n",
    "print('Top 10 2-grams:')\n",
    "print(most_frequent(df_news['2_grams'].loc[df_news.cluster==2], 10))\n",
    "print('\\n')\n",
    "print('Top 10 3-grams:')\n",
    "print(most_frequent(df_news['3_grams'].loc[df_news.cluster==2], 10))\n",
    "print('\\n')\n",
    "print('10 examples of headines:')\n",
    "print(df_news.headline_text.loc[df_news.cluster==2].head(10))"
   ]
  },
  {
   "cell_type": "markdown",
   "metadata": {},
   "source": [
    "A label for this cluster group is: <b>X</b>"
   ]
  },
  {
   "cell_type": "markdown",
   "metadata": {},
   "source": [
    "#### Cluster 3:"
   ]
  },
  {
   "cell_type": "code",
   "execution_count": 169,
   "metadata": {},
   "outputs": [
    {
     "name": "stdout",
     "output_type": "stream",
     "text": [
      "Top 10 words:\n",
      "['korea', 'leader', 'elect', 'say', 'talk', 'china', 'protest', 'iraq', 'new', 'australia']\n",
      "\n",
      "\n",
      "Top 10 2-grams:\n",
      "['asylum-seeker', 'human-right', 'n-korea', 'islam-state', 'sri-lanka', 'donald-trump', 'hong-kong', 'north-korea', 'al-qaeda', 'e-timor']\n",
      "\n",
      "\n",
      "Top 10 3-grams:\n",
      "['kim-jong-un', 'papua-new-guinea', 'south-china-sea', 'san-suu-kyi', 'middl-east-peac', 'asylum-seeker-boat', 'anti-war-protest', 'free-trade-deal', 'anti-terror-law', 'un-secur-council']\n",
      "\n",
      "\n",
      "10 examples of headines:\n",
      "1           new zealand imposes visa entry for zimbabwe\n",
      "18     talk of asian nuclear arms race unhelpful downer\n",
      "22      saudi arabia tells arabs war on iraq inevitable\n",
      "23          nth koreans seek asylum at japanese embassy\n",
      "61         aust addresses un security council over iraq\n",
      "64             dems hold plebiscite over iraqi conflict\n",
      "117            mugabe to touch down in paris for summit\n",
      "121          us british aircraft attack sth iraq target\n",
      "127      brigadier dismisses reports troops harassed in\n",
      "145           hussein says iraq doesnt want war with us\n",
      "Name: headline_text, dtype: object\n"
     ]
    }
   ],
   "source": [
    "print('Top 10 words:')\n",
    "print(most_frequent(df_news.text.loc[df_news.cluster==3], 10))\n",
    "print('\\n')\n",
    "print('Top 10 2-grams:')\n",
    "print(most_frequent(df_news['2_grams'].loc[df_news.cluster==3], 10))\n",
    "print('\\n')\n",
    "print('Top 10 3-grams:')\n",
    "print(most_frequent(df_news['3_grams'].loc[df_news.cluster==3], 10))\n",
    "print('\\n')\n",
    "print('10 examples of headines:')\n",
    "print(df_news.headline_text.loc[df_news.cluster==3].head(10))"
   ]
  },
  {
   "cell_type": "markdown",
   "metadata": {},
   "source": [
    "A label for this cluster group is: <b>X</b>"
   ]
  },
  {
   "cell_type": "markdown",
   "metadata": {},
   "source": [
    "#### Cluster 4:"
   ]
  },
  {
   "cell_type": "code",
   "execution_count": 170,
   "metadata": {},
   "outputs": [
    {
     "name": "stdout",
     "output_type": "stream",
     "text": [
      "Top 10 words:\n",
      "['interview', 'die', 'michael', 'media', 'call', 'john', 'talk', 'speak', 'abc', 'david']\n",
      "\n",
      "\n",
      "Top 10 2-grams:\n",
      "['abc-sport', 'interview-john', 'interview-michael', 'extend-interview', 'interview-david', 'abc-news', 'nrl-interview', 'media-call', 'ntch-podcast', 'abc-entertain']\n",
      "\n",
      "\n",
      "Top 10 3-grams:\n",
      "['interview-john-cartwright', 'abc-news-breakfast', 'interview-des-hasler', 'interview-neil-henri', 'abc-entertain-news', 'steven-schubert-speak', 'belinda-varischetti-interview', 'nation-press-club', 'interview-ivan-cleari', 'speak-pacif-beat']\n",
      "\n",
      "\n",
      "10 examples of headines:\n",
      "222               distance swimmer maroney calls it quits\n",
      "259                                maroney calls it quits\n",
      "319     jackson hits back at explosive british tv inte...\n",
      "390          costello unhappy he wasnt consulted by stone\n",
      "740                michael jackson sues documentary maker\n",
      "919           former whyalla director praises crash compo\n",
      "1293    former mayor speaks out over mismanagement rep...\n",
      "1335        london marathon co founder chris brasher dies\n",
      "1416                       cyclone graham loses intensity\n",
      "1444                       moenchengladbach coach resigns\n",
      "Name: headline_text, dtype: object\n"
     ]
    }
   ],
   "source": [
    "print('Top 10 words:')\n",
    "print(most_frequent(df_news.text.loc[df_news.cluster==4], 10))\n",
    "print('\\n')\n",
    "print('Top 10 2-grams:')\n",
    "print(most_frequent(df_news['2_grams'].loc[df_news.cluster==4], 10))\n",
    "print('\\n')\n",
    "print('Top 10 3-grams:')\n",
    "print(most_frequent(df_news['3_grams'].loc[df_news.cluster==4], 10))\n",
    "print('\\n')\n",
    "print('10 examples of headines:')\n",
    "print(df_news.headline_text.loc[df_news.cluster==4].head(10))"
   ]
  },
  {
   "cell_type": "markdown",
   "metadata": {},
   "source": [
    "A label for this cluster group is: <b>X</b>"
   ]
  },
  {
   "cell_type": "markdown",
   "metadata": {},
   "source": [
    "#### Cluster 5:"
   ]
  },
  {
   "cell_type": "code",
   "execution_count": 171,
   "metadata": {},
   "outputs": [
    {
     "name": "stdout",
     "output_type": "stream",
     "text": [
      "Top 10 words:\n",
      "['qld', 'coast', 'new', 'fire', 'countri', 'warn', 'nsw', 'hour', 'weather', 'flood']\n",
      "\n",
      "\n",
      "Top 10 2-grams:\n",
      "['hour-podcast', 'nsw-countri', 'south-east', 'tas-countri', 'countri-hour', 'abc-weather', 'north-coast', 'gold-coast', 'rural-qld', 'wa-countri']\n",
      "\n",
      "\n",
      "Top 10 3-grams:\n",
      "['qld-countri-hour', 'nsw-countri-hour', 'rural-qld-podcast', 'vic-countri-hour', 'countri-hour-podcast', 'nt-countri-hour', 'mid-north-coast', 'tas-countri-hour', 'sa-countri-hour', 'wa-countri-hour']\n",
      "\n",
      "\n",
      "10 examples of headines:\n",
      "6              worksafe probes potato harvester injuries\n",
      "31            radioactive spill at wmcs olympic dam mine\n",
      "54                       rain eases wheatbelt water woes\n",
      "58          griffiths under fire over project knock back\n",
      "75           massive drug crop discovered in western nsw\n",
      "91                       rabbit control program on trial\n",
      "120    more water restrictions predicted for northern...\n",
      "138                       drought taking toll on insects\n",
      "147               gippsland firefighters remain on guard\n",
      "159           epa to investigate radioactive spill in sa\n",
      "Name: headline_text, dtype: object\n"
     ]
    }
   ],
   "source": [
    "print('Top 10 words:')\n",
    "print(most_frequent(df_news.text.loc[df_news.cluster==5], 10))\n",
    "print('\\n')\n",
    "print('Top 10 2-grams:')\n",
    "print(most_frequent(df_news['2_grams'].loc[df_news.cluster==5], 10))\n",
    "print('\\n')\n",
    "print('Top 10 3-grams:')\n",
    "print(most_frequent(df_news['3_grams'].loc[df_news.cluster==5], 10))\n",
    "print('\\n')\n",
    "print('10 examples of headines:')\n",
    "print(df_news.headline_text.loc[df_news.cluster==5].head(10))"
   ]
  },
  {
   "cell_type": "markdown",
   "metadata": {},
   "source": [
    "A label for this cluster group is: <b>X</b>"
   ]
  },
  {
   "cell_type": "markdown",
   "metadata": {},
   "source": [
    "#### Cluster 6:"
   ]
  },
  {
   "cell_type": "code",
   "execution_count": 172,
   "metadata": {},
   "outputs": [
    {
     "name": "stdout",
     "output_type": "stream",
     "text": [
      "Top 10 words:\n",
      "['plan', 'call', 'chang', 'say', 'govern', 'new', 'council', 'govt', 'fund', 'health']\n",
      "\n",
      "\n",
      "Top 10 2-grams:\n",
      "['job-cut', 'royal-commiss', 'mental-health', 'climat-chang', 'pulp-mill', 'age-care', 'wind-farm', 'nsw-govt', 'health-servic', 'council-consid']\n",
      "\n",
      "\n",
      "Top 10 3-grams:\n",
      "['mental-health-servic', 'public-get-say', 'nuclear-wast-dump', 'local-govt-group', 'premier-colin-barnett', 'wind-farm-plan', 'council-green-light', 'coal-seam-gas', 'murray-darl-basin', 'get-green-light']\n",
      "\n",
      "\n",
      "10 examples of headines:\n",
      "2      nsw opp defends claims of running race campaign\n",
      "3     qantas war plan to cut 2500 jobs outrages unions\n",
      "11                          bathhouse plans move ahead\n",
      "13               shire offers assurances over finances\n",
      "17      rfs rejects claim that act authorities spurned\n",
      "25     nsw govt under fire for holding back vegetation\n",
      "36                  nsw opp pledges 50m drought relief\n",
      "39                  low demand forces air service cuts\n",
      "40                         nursing student intake down\n",
      "44    questions public anger grows after korean subway\n",
      "Name: headline_text, dtype: object\n"
     ]
    }
   ],
   "source": [
    "print('Top 10 words:')\n",
    "print(most_frequent(df_news.text.loc[df_news.cluster==6], 10))\n",
    "print('\\n')\n",
    "print('Top 10 2-grams:')\n",
    "print(most_frequent(df_news['2_grams'].loc[df_news.cluster==6], 10))\n",
    "print('\\n')\n",
    "print('Top 10 3-grams:')\n",
    "print(most_frequent(df_news['3_grams'].loc[df_news.cluster==6], 10))\n",
    "print('\\n')\n",
    "print('10 examples of headines:')\n",
    "print(df_news.headline_text.loc[df_news.cluster==6].head(10))"
   ]
  },
  {
   "cell_type": "markdown",
   "metadata": {},
   "source": [
    "A label for this cluster group is: <b>X</b>"
   ]
  },
  {
   "cell_type": "markdown",
   "metadata": {},
   "source": [
    "#### Cluster 7:"
   ]
  },
  {
   "cell_type": "code",
   "execution_count": 173,
   "metadata": {},
   "outputs": [
    {
     "name": "stdout",
     "output_type": "stream",
     "text": [
      "Top 10 words:\n",
      "['plan', 'hope', 'call', 'set', 'new', 'get', 'boost', 'support', 'fund', 'push']\n",
      "\n",
      "\n",
      "Top 10 2-grams:\n",
      "['heritag-list', 'prompt-call', 'nation-rural', 'spark-call', 'green-light', 'mental-health', 'broken-hill', 'gold-coast', 'fund-boost', 'rural-news']\n",
      "\n",
      "\n",
      "Top 10 3-grams:\n",
      "['rural-news-thursday', 'rural-news-friday', 'rural-news-tuesday', 'rural-news-monday', 'get-go-ahead', 'rural-news-wednesday', 'death-prompt-call', 'get-green-light', 'nation-rural-news', 'death-spark-call']\n",
      "\n",
      "\n",
      "10 examples of headines:\n",
      "15                 record amount for gladstone ventures\n",
      "16      peace agreement may bring respite for venezuela\n",
      "20                  orientation begins for uni students\n",
      "50    iraqs neighbours plead for continued un inspec...\n",
      "51                            plan for second skatepark\n",
      "53       no side effects for new whooping cough vaccine\n",
      "66                      funds announced for bridge work\n",
      "68      vff to buy stock feed pellets for fire affected\n",
      "85                         warne hearing set for friday\n",
      "87                    funds allocated for youth at risk\n",
      "Name: headline_text, dtype: object\n"
     ]
    }
   ],
   "source": [
    "print('Top 10 words:')\n",
    "print(most_frequent(df_news.text.loc[df_news.cluster==7], 10))\n",
    "print('\\n')\n",
    "print('Top 10 2-grams:')\n",
    "print(most_frequent(df_news['2_grams'].loc[df_news.cluster==7], 10))\n",
    "print('\\n')\n",
    "print('Top 10 3-grams:')\n",
    "print(most_frequent(df_news['3_grams'].loc[df_news.cluster==7], 10))\n",
    "print('\\n')\n",
    "print('10 examples of headines:')\n",
    "print(df_news.headline_text.loc[df_news.cluster==7].head(10))"
   ]
  },
  {
   "cell_type": "markdown",
   "metadata": {},
   "source": [
    "A label for this cluster group is: <b>X</b>"
   ]
  },
  {
   "cell_type": "markdown",
   "metadata": {},
   "source": [
    "#### Cluster 8:"
   ]
  },
  {
   "cell_type": "code",
   "execution_count": 174,
   "metadata": {},
   "outputs": [
    {
     "name": "stdout",
     "output_type": "stream",
     "text": [
      "Top 10 words:\n",
      "['rate', 'price', 'profit', 'market', 'rise', 'job', 'mine', 'farmer', 'busi', 'share']\n",
      "\n",
      "\n",
      "Top 10 2-grams:\n",
      "['iron-ore', 'share-market', 'interest-rate', 'abc-busi', 'rate-rise', 'news-market', 'nation-rural', 'market-analysi', 'busi-news', 'rural-news']\n",
      "\n",
      "\n",
      "Top 10 3-grams:\n",
      "['busi-news-market', 'interest-rate-rise', 'share-market-close', 'australian-share-market', 'news-market-analysi', 'multi-million-dollar', 'abc-busi-news', 'nation-rural-news', 'iron-ore-price', 'half-year-profit']\n",
      "\n",
      "\n",
      "10 examples of headines:\n",
      "0                     surge in new car sales in aust abs\n",
      "73               heavy metal deposits survey nearing end\n",
      "81          commonwealth bank cuts fixed home loan rates\n",
      "112    hacker gains access to eight million credit cards\n",
      "129                 wine chief bounces back from sacking\n",
      "135                   lend leases posts 370 million loss\n",
      "149                       rain boosts farmers confidence\n",
      "152                              oil prices hit new high\n",
      "181                    wide bay economy growing stronger\n",
      "193          qantas flags job cuts despite record profit\n",
      "Name: headline_text, dtype: object\n"
     ]
    }
   ],
   "source": [
    "print('Top 10 words:')\n",
    "print(most_frequent(df_news.text.loc[df_news.cluster==8], 10))\n",
    "print('\\n')\n",
    "print('Top 10 2-grams:')\n",
    "print(most_frequent(df_news['2_grams'].loc[df_news.cluster==8], 10))\n",
    "print('\\n')\n",
    "print('Top 10 3-grams:')\n",
    "print(most_frequent(df_news['3_grams'].loc[df_news.cluster==8], 10))\n",
    "print('\\n')\n",
    "print('10 examples of headines:')\n",
    "print(df_news.headline_text.loc[df_news.cluster==8].head(10))"
   ]
  },
  {
   "cell_type": "markdown",
   "metadata": {},
   "source": [
    "A label for this cluster group is: <b>X</b>"
   ]
  },
  {
   "cell_type": "markdown",
   "metadata": {},
   "source": [
    "#### Cluster 9:"
   ]
  },
  {
   "cell_type": "code",
   "execution_count": 175,
   "metadata": {},
   "outputs": [
    {
     "name": "stdout",
     "output_type": "stream",
     "text": [
      "Top 10 words:\n",
      "['year', 'report', 'say', 'show', 'drum', 'make', 'new', 'australia', 'get', 'australian']\n",
      "\n",
      "\n",
      "Top 10 2-grams:\n",
      "['rural-report', 'drum-friday', 'climat-chang', 'drum-thursday', 'drum-wednesday', 'drum-tuesday', 'social-media', 'drum-monday', 'donald-trump', 'australian-year']\n",
      "\n",
      "\n",
      "Top 10 3-grams:\n",
      "['qld-rural-report', 'rural-nsw-rural', 'great-barrier-reef', 'sa-rural-report', 'one-plus-one', 'australia', 'premier-mike-rann', 'rural-qld-rural', 'good-behaviour-bond', 'nsw-rural-report']\n",
      "\n",
      "\n",
      "10 examples of headines:\n",
      "12                 stop changing the rules fans tell afl\n",
      "45          oh brother your times up says ganguly senior\n",
      "46         more than 40 pc of young men drink alcohol at\n",
      "90                    still no sign of missing fisherman\n",
      "143                      war talk takes toll on all ords\n",
      "189    christmas is detention centre no go claims qua...\n",
      "224                  beware the standard alcoholic drink\n",
      "274                         bedi labels murali a chucker\n",
      "293                       war impact on exercise unknown\n",
      "325                      round the world in no forget it\n",
      "Name: headline_text, dtype: object\n"
     ]
    }
   ],
   "source": [
    "print('Top 10 words:')\n",
    "print(most_frequent(df_news.text.loc[df_news.cluster==9], 10))\n",
    "print('\\n')\n",
    "print('Top 10 2-grams:')\n",
    "print(most_frequent(df_news['2_grams'].loc[df_news.cluster==9], 10))\n",
    "print('\\n')\n",
    "print('Top 10 3-grams:')\n",
    "print(most_frequent(df_news['3_grams'].loc[df_news.cluster==9], 10))\n",
    "print('\\n')\n",
    "print('10 examples of headines:')\n",
    "print(df_news.headline_text.loc[df_news.cluster==9].head(10))"
   ]
  },
  {
   "cell_type": "markdown",
   "metadata": {},
   "source": [
    "A label for this cluster group is: <b>X</b>"
   ]
  },
  {
   "cell_type": "markdown",
   "metadata": {},
   "source": [
    "#### Cluster 10:"
   ]
  },
  {
   "cell_type": "code",
   "execution_count": 176,
   "metadata": {},
   "outputs": [
    {
     "name": "stdout",
     "output_type": "stream",
     "text": [
      "Top 10 words:\n",
      "['man', 'miss', 'dead', 'woman', 'found', 'polic', 'car', 'crash', 'kill', 'die']\n",
      "\n",
      "\n",
      "Top 10 2-grams:\n",
      "['woman-die', 'hous-fire', 'man-kill', 'man-die', 'death-toll', 'plane-crash', 'found-dead', 'search-miss', 'bodi-found', 'car-crash']\n",
      "\n",
      "\n",
      "Top 10 3-grams:\n",
      "['suicid-bomber-kill', 'man-bodi-found', 'man-found-dead', 'light-plane-crash', 'fatal-car-crash', 'search-continu-miss', 'us-soldier-kill', 'death-toll-rise', 'die-car-crash', 'car-bomb-kill']\n",
      "\n",
      "\n",
      "10 examples of headines:\n",
      "10             six palestinians killed in gaza incursion\n",
      "19                 girl injured in head on highway crash\n",
      "33         man arrested after central qld hijack attempt\n",
      "35       search continues for victims in s korean subway\n",
      "65                 four injured in head on highway crash\n",
      "89      death toll continues to climb in s korean subway\n",
      "99     investigations underway into death toll of korean\n",
      "108                dog mauls 18 month old toddler in nsw\n",
      "122                      probe launched into plane crash\n",
      "128        thousands remember 61st anniversary of darwin\n",
      "Name: headline_text, dtype: object\n"
     ]
    }
   ],
   "source": [
    "print('Top 10 words:')\n",
    "print(most_frequent(df_news.text.loc[df_news.cluster==10], 10))\n",
    "print('\\n')\n",
    "print('Top 10 2-grams:')\n",
    "print(most_frequent(df_news['2_grams'].loc[df_news.cluster==10], 10))\n",
    "print('\\n')\n",
    "print('Top 10 3-grams:')\n",
    "print(most_frequent(df_news['3_grams'].loc[df_news.cluster==10], 10))\n",
    "print('\\n')\n",
    "print('10 examples of headines:')\n",
    "print(df_news.headline_text.loc[df_news.cluster==10].head(10))"
   ]
  },
  {
   "cell_type": "markdown",
   "metadata": {},
   "source": [
    "A label for this cluster group is: <b>X</b>"
   ]
  },
  {
   "cell_type": "code",
   "execution_count": null,
   "metadata": {},
   "outputs": [],
   "source": []
  },
  {
   "cell_type": "code",
   "execution_count": null,
   "metadata": {},
   "outputs": [],
   "source": []
  }
 ],
 "metadata": {
  "kernelspec": {
   "display_name": "Python 3",
   "language": "python",
   "name": "python3"
  },
  "language_info": {
   "codemirror_mode": {
    "name": "ipython",
    "version": 3
   },
   "file_extension": ".py",
   "mimetype": "text/x-python",
   "name": "python",
   "nbconvert_exporter": "python",
   "pygments_lexer": "ipython3",
   "version": "3.5.2"
  }
 },
 "nbformat": 4,
 "nbformat_minor": 2
}
